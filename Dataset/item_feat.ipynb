{
 "cells": [
  {
   "cell_type": "raw",
   "id": "7fc42ac5-23a6-40fc-ab48-486d12db09ec",
   "metadata": {},
   "source": [
    "item feature processing --> generating item tags"
   ]
  },
  {
   "cell_type": "code",
   "execution_count": null,
   "id": "a9f7f8b9-a73f-4d1a-b95c-52cc5d94c2e8",
   "metadata": {},
   "outputs": [],
   "source": []
  },
  {
   "cell_type": "code",
   "execution_count": null,
   "id": "875bdc59-e82e-4551-81b7-db791bea1666",
   "metadata": {},
   "outputs": [],
   "source": []
  },
  {
   "cell_type": "code",
   "execution_count": null,
   "id": "0e1086ed-9ba9-4268-826b-655f87e72553",
   "metadata": {},
   "outputs": [],
   "source": []
  }
 ],
 "metadata": {
  "kernelspec": {
   "display_name": "Python 3",
   "language": "python",
   "name": "python3"
  },
  "language_info": {
   "codemirror_mode": {
    "name": "ipython",
    "version": 3
   },
   "file_extension": ".py",
   "mimetype": "text/x-python",
   "name": "python",
   "nbconvert_exporter": "python",
   "pygments_lexer": "ipython3",
   "version": "3.8.8"
  }
 },
 "nbformat": 4,
 "nbformat_minor": 5
}
