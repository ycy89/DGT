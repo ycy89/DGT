{
 "cells": [
  {
   "cell_type": "raw",
   "id": "141dd831-808b-4c86-978b-4318a39ef371",
   "metadata": {},
   "source": [
    "Data prcocess steps: \n",
    "\n",
    "1. Review data \n",
    "    a. rating prediction? or top N recommendation? \n",
    "    b. time span? \n",
    "    c. k-core data (for user)\n",
    "    d. user feature? \n",
    "2. meta-data for items. \n",
    "    1. ID  \n",
    "    2. price \n",
    "    3. categories. \n",
    "    4. titile \n",
    "    5. similar and also buy? \n",
    "3. Original dataset at: https://jmcauley.ucsd.edu/data/amazon/    \n"
   ]
  },
  {
   "cell_type": "markdown",
   "id": "c6f6a295-81fd-43a5-9d69-5fe0b0b95167",
   "metadata": {},
   "source": [
    "# Review data"
   ]
  },
  {
   "cell_type": "code",
   "execution_count": 1,
   "id": "abef5537-908e-47f7-9333-67c2485eea02",
   "metadata": {},
   "outputs": [],
   "source": [
    "\"\"\"\n",
    "Data process functions \n",
    "\"\"\"\n",
    "import pandas as pd\n",
    "import gzip\n",
    "import json\n",
    "import gc\n",
    "import numpy as np\n",
    "\n",
    "\n",
    "def parse(path):\n",
    "  g = gzip.open(path, 'rb')\n",
    "  for l in g:\n",
    "    yield json.loads(l)\n",
    "\n",
    "    \n",
    "def getDF(path):\n",
    "  i = 0\n",
    "  df = {}\n",
    "  for d in parse(path):\n",
    "    df[i] = d\n",
    "    i += 1\n",
    "  return pd.DataFrame.from_dict(df, orient='index')\n",
    "\n",
    "\n",
    "def item_limit(df, k):\n",
    "    # tmp1 = df.groupby(['reviewerID'], as_index=False)['asin'].count()\n",
    "    # tmp1.rename(columns={'asin': 'cnt_item'}, inplace=True)\n",
    "    tmp2 = df.groupby(['asin'], as_index=False)['reviewerID'].count()\n",
    "    tmp2.rename(columns={'reviewerID': 'cnt_user'}, inplace=True)\n",
    "    \n",
    "    df = df.merge(tmp2, on=['asin']) \n",
    "    query = \"cnt_user >= %d\" % (k)\n",
    "    df = df.query(query).reset_index(drop=True).copy()\n",
    "    df.drop(['cnt_user'], axis=1, inplace=True)\n",
    "    del tmp2\n",
    "    gc.collect()\n",
    "    return df\n",
    "\n",
    "\n",
    "def info(data):\n",
    "    \"\"\" num of user, item, max/min uid/itemid, total interaction\"\"\"\n",
    "    user = set(data['reviewerID'].tolist())\n",
    "    item = set(data['asin'].tolist())\n",
    "    print(\"number of user: \", len(user))\n",
    "    print(\"max user ID: \", max(user))\n",
    "    print(\"Min user ID: \", min(user))\n",
    "    print(\"number of Item: \", len(item))\n",
    "    print(\"Max item ID: \", max(item))\n",
    "    print(\"Min item ID: \", min(item))\n",
    "    print(\"Iteractions: \", len(data))\n",
    "\n",
    "    \n",
    "def user_limit(df, k=5):\n",
    "    tmp1 = df.groupby(['reviewerID'], as_index=False)['asin'].count()\n",
    "    tmp1.rename(columns={'asin': 'cnt_item'}, inplace=True)\n",
    "    df = df.merge(tmp1, on=['reviewerID']) \n",
    "    query = \"cnt_item >= %d\" % (k)\n",
    "    df = df.query(query).reset_index(drop=True).copy()\n",
    "    df.drop(['cnt_item'], axis=1, inplace=True)\n",
    "    del tmp1\n",
    "    gc.collect()\n",
    "    return df    \n",
    "\n",
    "    \n",
    "def category(dataf):\n",
    "    dataf['reviewerID'] = pd.Categorical(dataf.uid).codes\n",
    "    dataf['asin'] = pd.Categorical(dataf.asin).codes\n",
    "    dataf.sort_values(['reviewerID', 'unixReviewTime'], inplace=True)\n",
    "    return dataf\n"
   ]
  },
  {
   "cell_type": "markdown",
   "id": "983139d2-e042-46ee-9413-f3732eadde3b",
   "metadata": {},
   "source": [
    "## Step 1: clear review data"
   ]
  },
  {
   "cell_type": "raw",
   "id": "8fd95949-2568-458c-bbc1-373c87f973bb",
   "metadata": {},
   "source": [
    "start time, k-core, drop extra info"
   ]
  },
  {
   "cell_type": "markdown",
   "id": "74e8ea95-09b7-4198-9ef0-8b658244b95c",
   "metadata": {},
   "source": [
    "### Book"
   ]
  },
  {
   "cell_type": "code",
   "execution_count": 4,
   "id": "bd3bfd19-1cff-463e-b1cf-1e6fe968d9c0",
   "metadata": {},
   "outputs": [],
   "source": [
    "filename = \"/ceph/11329/ashexie/data/reviews_Books_5.json.gz\"\n",
    "out_dir = \"/ceph/11329/chain/DHIN-CDR/datasets/amazon-book\"\n",
    "# get review data as dataframe\\\n",
    "df = getDF(filename)"
   ]
  },
  {
   "cell_type": "code",
   "execution_count": 5,
   "id": "16443258-aeaa-4803-b3f8-f41e1b80735a",
   "metadata": {},
   "outputs": [],
   "source": [
    "# For rating prediction (reserve all rating data from 1-5 points)\n",
    "# start_time = 631123200   # 1990, 1, 1, 0, 0, 0\n",
    "start_time = 946656000   # 2000, 1, 1, 0, 0, 0\n",
    "# filter out interaction before start time. \n",
    "df = df[df.unixReviewTime > start_time]  \n",
    "# drop redandunt columns \n",
    "df = df.drop(['reviewerName', 'summary', 'helpful'], axis=1)"
   ]
  },
  {
   "cell_type": "code",
   "execution_count": 9,
   "id": "287421c7-b5a4-4e1f-bf3f-5d1e89398c83",
   "metadata": {},
   "outputs": [],
   "source": [
    "# k-core \n",
    "item_limit_num = 5\n",
    "user_limit_num = 10\n",
    "df = item_limit(df, k=item_limit_num)\n",
    "df = user_limit(df, k=user_limit_num)"
   ]
  },
  {
   "cell_type": "code",
   "execution_count": 10,
   "id": "2d65b8ca-e0a0-4223-a271-eafd308c6cf7",
   "metadata": {},
   "outputs": [
    {
     "name": "stdout",
     "output_type": "stream",
     "text": [
      "number of user:  218106\n",
      "max user ID:  AZZZT14MS21I6\n",
      "Min user ID:  A000443821AD43TOGKNGZ\n",
      "number of Item:  365641\n",
      "Max item ID:  B00M13FNSS\n",
      "Min item ID:  000100039X\n",
      "Iteractions:  6427897\n"
     ]
    }
   ],
   "source": [
    "info(df)"
   ]
  },
  {
   "cell_type": "code",
   "execution_count": 13,
   "id": "f65054f9-df6d-4ded-bed7-b5a4c6f117eb",
   "metadata": {},
   "outputs": [],
   "source": [
    "df.to_csv(f\"/ceph/11329/chain/DHIN-CDR/datasets/amazon-book/book-u{user_limit_num}-i{item_limit_num}.csv\", index = False, header=True)"
   ]
  },
  {
   "cell_type": "markdown",
   "id": "aaf4fdb8-1e26-4ce2-b44b-9739a437670d",
   "metadata": {},
   "source": [
    "### Movie "
   ]
  },
  {
   "cell_type": "code",
   "execution_count": 14,
   "id": "a1b09da2-0645-4a61-a17b-69fa43196c08",
   "metadata": {},
   "outputs": [
    {
     "name": "stdout",
     "output_type": "stream",
     "text": [
      "number of user:  40593\n",
      "max user ID:  AZZZMSZI9LKE6\n",
      "Min user ID:  A0040548BPHKXMHH3NTI\n",
      "number of Item:  49848\n",
      "Max item ID:  B00LT1JHLW\n",
      "Min item ID:  0005019281\n",
      "Iteractions:  1168233\n"
     ]
    }
   ],
   "source": [
    "filename = \"/ceph/11329/ashexie/data/reviews_Movies_and_TV_5.json.gz\"\n",
    "# get review data as dataframe \n",
    "df = getDF(filename)\n",
    "start_time = 946656000   # 2000, 1, 1, 0, 0, 0\n",
    "# filter out interaction before start time. \n",
    "df = df[df.unixReviewTime > start_time]  \n",
    "# drop redandunt columns \n",
    "df = df.drop(['reviewerName', 'summary', 'helpful'], axis=1)\n",
    "df = item_limit(df, k=item_limit_num)\n",
    "df = user_limit(df, k=user_limit_num)\n",
    "info(df)"
   ]
  },
  {
   "cell_type": "code",
   "execution_count": 15,
   "id": "e1327315-e09c-40b6-bac4-d9c2d359e1a9",
   "metadata": {},
   "outputs": [],
   "source": [
    "df.to_csv(f\"/ceph/11329/chain/DHIN-CDR/datasets/amazon-movie/movie-u{user_limit_num}-i{item_limit_num}.csv\", index = False, header=True)"
   ]
  },
  {
   "cell_type": "markdown",
   "id": "fa092165-8621-4b14-987c-b20140e008cb",
   "metadata": {},
   "source": [
    "### CD "
   ]
  },
  {
   "cell_type": "code",
   "execution_count": 16,
   "id": "a2a73f7d-3062-4eee-affb-56b0b71870d2",
   "metadata": {},
   "outputs": [
    {
     "name": "stdout",
     "output_type": "stream",
     "text": [
      "number of user:  26193\n",
      "max user ID:  AZZWPNME0GQZ2\n",
      "Min user ID:  A02852361P0OLWYC4FW7X\n",
      "number of Item:  63592\n",
      "Max item ID:  B00L326LTI\n",
      "Min item ID:  0307141985\n",
      "Iteractions:  774591\n"
     ]
    }
   ],
   "source": [
    "filename = \"/ceph/11329/ashexie/data/reviews_CDs_and_Vinyl_5.json.gz\"\n",
    "# get review data as dataframe \n",
    "df = getDF(filename)\n",
    "start_time = 946656000   # 2000, 1, 1, 0, 0, 0\n",
    "# filter out interaction before start time. \n",
    "df = df[df.unixReviewTime > start_time]  \n",
    "# drop redandunt columns \n",
    "df = df.drop(['reviewerName', 'summary', 'helpful'], axis=1)\n",
    "df = item_limit(df, k=item_limit_num)\n",
    "df = user_limit(df, k=user_limit_num)\n",
    "info(df)"
   ]
  },
  {
   "cell_type": "code",
   "execution_count": 17,
   "id": "fe9b229f-74e4-4fac-98d2-38c8aa47932c",
   "metadata": {},
   "outputs": [],
   "source": [
    "df.to_csv(f\"/ceph/11329/chain/DHIN-CDR/datasets/amazon-cd/cd-u{user_limit_num}-i{item_limit_num}.csv\", index = False, header=True)"
   ]
  },
  {
   "cell_type": "markdown",
   "id": "7ab7055d-772d-4e4d-aa04-69a92cf2094f",
   "metadata": {},
   "source": [
    "## Step2: Find overlap users between domains "
   ]
  },
  {
   "cell_type": "raw",
   "id": "662a2532-708b-4c62-a670-ef230ec9e3d6",
   "metadata": {},
   "source": [
    "本工作中只关注user full overlap的情况"
   ]
  },
  {
   "cell_type": "code",
   "execution_count": 18,
   "id": "f4d292dc-964f-4892-8e3b-fe61cb1cd105",
   "metadata": {},
   "outputs": [],
   "source": [
    "def get_user_set(filename): \n",
    "    df = pd.read_csv(filename)\n",
    "    return set(df['reviewerID'].tolist())"
   ]
  },
  {
   "cell_type": "code",
   "execution_count": 19,
   "id": "724c14cf-cef0-4b16-ad14-87c926e21d01",
   "metadata": {},
   "outputs": [],
   "source": [
    "user_set_book = get_user_set(f\"/ceph/11329/chain/DHIN-CDR/datasets/amazon-book/book-u{user_limit_num}-i{item_limit_num}.csv\")\n",
    "user_set_movie = get_user_set(f\"/ceph/11329/chain/DHIN-CDR/datasets/amazon-movie/movie-u{user_limit_num}-i{item_limit_num}.csv\")\n",
    "user_set_cd = get_user_set(f\"/ceph/11329/chain/DHIN-CDR/datasets/amazon-cd/cd-u{user_limit_num}-i{item_limit_num}.csv\")"
   ]
  },
  {
   "cell_type": "code",
   "execution_count": 20,
   "id": "45755740-2fa4-4c48-afd0-bae5821e79c6",
   "metadata": {},
   "outputs": [
    {
     "name": "stdout",
     "output_type": "stream",
     "text": [
      "218106\n",
      "40593\n",
      "26193\n"
     ]
    }
   ],
   "source": [
    "print(len(user_set_book))\n",
    "print(len(user_set_movie))\n",
    "print(len(user_set_cd))"
   ]
  },
  {
   "cell_type": "markdown",
   "id": "281d8868-29c3-4854-8fb1-a9b8290cf6ef",
   "metadata": {},
   "source": [
    "# Single domain data "
   ]
  },
  {
   "cell_type": "markdown",
   "id": "ec383218-dc35-4978-9668-1997c660c88d",
   "metadata": {},
   "source": [
    "## Item Raw"
   ]
  },
  {
   "cell_type": "raw",
   "id": "557785ed-9cb8-4c2b-a01e-cba91ccaadd1",
   "metadata": {},
   "source": [
    "1. find the item set in the cross-domain dataset. \n",
    "2. get the raw info for the selected items. \n",
    "3. filter item info -> save "
   ]
  },
  {
   "cell_type": "code",
   "execution_count": 2,
   "id": "ba7730ec-89e3-4535-8151-05324d41ad3c",
   "metadata": {},
   "outputs": [],
   "source": [
    "def get_item_set(filename): \n",
    "    df = pd.read_csv(filename)\n",
    "    return set(df['asin'].tolist())\n",
    "\n",
    "def item_selection_x(item_raw, sel_item): \n",
    "    item_id = pd.DataFrame(list(zip(list(sel_item), list(np.ones(len(sel_item))))), columns =['asin', 'indicator'])\n",
    "    # domain a \n",
    "    item_raw = item_raw.merge(item_id, on='asin', how='left')\n",
    "    item_raw = item_raw.loc[item_raw['indicator'] == 1]\n",
    "    item_raw.drop(['indicator'], axis=1, inplace=True)\n",
    "    print(len(set(item_raw['asin'])))\n",
    "    \n",
    "    return item_raw"
   ]
  },
  {
   "cell_type": "code",
   "execution_count": 3,
   "id": "7ecdc8b1-2ec5-42ee-b4bc-64b8dcad9f25",
   "metadata": {},
   "outputs": [],
   "source": [
    "raw_movie = getDF(\"/ceph/11329/ashexie/data/ft_local/meta_Movies_and_TV.json.gz\")\n",
    "raw_cd = getDF(\"/ceph/11329/ashexie/data/ft_local/meta_CDs_and_Vinyl.json.gz\")\n",
    "raw_book = getDF(\"/ceph/11329/ashexie/data/ft_local/meta_Books.json.gz\")"
   ]
  },
  {
   "cell_type": "code",
   "execution_count": 4,
   "id": "63be6871-7a55-4fa7-8bbb-0c8d51ae7a46",
   "metadata": {},
   "outputs": [],
   "source": [
    "raw_cd.drop(['tech1', \"feature\", 'fit', \"similar_item\", 'tech2', 'also_view', 'also_buy', 'date' ,'imageURL','imageURLHighRes', 'details'], axis=1, inplace=True)\n",
    "raw_book.drop(['tech1', \"feature\", 'fit', \"similar_item\", 'tech2', 'also_view', 'also_buy', 'date' ,'imageURL','imageURLHighRes', 'details'], axis=1, inplace=True)\n",
    "raw_movie.drop(['tech1', \"feature\", 'fit', 'tech2', \"similar_item\", 'also_view', 'also_buy', 'date' ,'imageURL','imageURLHighRes', 'details'], axis=1, inplace=True)"
   ]
  },
  {
   "cell_type": "code",
   "execution_count": 7,
   "id": "c04932d2-58be-4a2e-b76c-235c18c1cc5d",
   "metadata": {},
   "outputs": [
    {
     "name": "stdout",
     "output_type": "stream",
     "text": [
      "232590\n",
      "27219\n",
      "38701\n",
      "Number of items in each set: \n",
      "movie, book, cd\n",
      "49848 365641 63592\n"
     ]
    }
   ],
   "source": [
    "sel_movie_ids = get_item_set(\"/ceph/11329/chain/DHIN-CDR/datasets/amazon-movie/movie-u10-i5.csv\")\n",
    "sel_cd_ids = get_item_set(\"/ceph/11329/chain/DHIN-CDR/datasets/amazon-cd/cd-u10-i5.csv\")\n",
    "sel_book_ids = get_item_set(\"/ceph/11329/chain/DHIN-CDR/datasets/amazon-book/book-u10-i5.csv\")\n",
    "\n",
    "sel_book_raw = item_selection_x(raw_book, sel_book_ids)\n",
    "sel_movie_raw = item_selection_x(raw_movie, sel_movie_ids)\n",
    "sel_cd_raw = item_selection_x(raw_cd, sel_cd_ids)\n",
    "print(\"Number of items in each set: \")\n",
    "print(\"movie, book, cd\")\n",
    "print(len(sel_movie_ids), len(sel_book_ids), len(sel_cd_ids))"
   ]
  },
  {
   "cell_type": "code",
   "execution_count": 8,
   "id": "da8cac97-0b35-4be1-9085-70dd7edcf07e",
   "metadata": {},
   "outputs": [],
   "source": [
    "# save to file \n",
    "sel_movie_raw.to_csv('/ceph/11329/chain/DHIN-CDR/datasets/amazon-movie/movie_feat.csv', index = False, header=True)\n",
    "sel_cd_raw.to_csv('/ceph/11329/chain/DHIN-CDR/datasets/amazon-cd/cd_feat.csv', index = False, header=True)\n",
    "sel_book_raw.to_csv('/ceph/11329/chain/DHIN-CDR/datasets/amazon-book/book_feat.csv', index = False, header=True)"
   ]
  },
  {
   "cell_type": "markdown",
   "id": "a949e666-976e-4404-9057-6d80adcd0141",
   "metadata": {},
   "source": [
    "# ReID and statistics"
   ]
  },
  {
   "cell_type": "raw",
   "id": "5822f502-6e22-4f78-8b1a-2eb38af25c46",
   "metadata": {},
   "source": [
    "1. Number of users, items, and interactions. \n",
    "2. time span \n",
    "2. Average seq length \n",
    "3. dynamic item pop \n",
    "4. dynamic user pop \n",
    "5. item reid dict \n",
    "6. user reid dict\n",
    "8. hist of rating scores. "
   ]
  },
  {
   "cell_type": "code",
   "execution_count": 5,
   "id": "adb93d12-6959-4455-91ea-99f25ea65078",
   "metadata": {
    "tags": []
   },
   "outputs": [
    {
     "name": "stdout",
     "output_type": "stream",
     "text": [
      "Looking in indexes: https://mirrors.cloud.tencent.com/pypi/simple/, http://mirrors.oa.com/pypi/web/simple/\n",
      "Collecting matplotlib\n",
      "  Downloading http://mirrors.oa.com/pypi/web/packages/09/03/b7b30fa81cb687d1178e085d0f01111ceaea3bf81f9330c937fb6f6c8ca0/matplotlib-3.3.4-cp36-cp36m-manylinux1_x86_64.whl (11.5 MB)\n",
      "     |████████████████████████████████| 11.5 MB 14.5 MB/s            \n",
      "\u001b[?25hRequirement already satisfied: pillow>=6.2.0 in /data/miniconda3/envs/env-3.6.8/lib/python3.6/site-packages (from matplotlib) (8.4.0)\n",
      "Collecting kiwisolver>=1.0.1\n",
      "  Downloading http://mirrors.oa.com/pypi/web/packages/a7/1b/cbd8ae738719b5f41592a12057ef5442e2ed5f5cb5451f8fc7e9f8875a1a/kiwisolver-1.3.1-cp36-cp36m-manylinux1_x86_64.whl (1.1 MB)\n",
      "     |████████████████████████████████| 1.1 MB 48.2 MB/s            \n",
      "\u001b[?25hCollecting cycler>=0.10\n",
      "  Downloading http://mirrors.oa.com/pypi/web/packages/5c/f9/695d6bedebd747e5eb0fe8fad57b72fdf25411273a39791cde838d5a8f51/cycler-0.11.0-py3-none-any.whl (6.4 kB)\n",
      "Requirement already satisfied: python-dateutil>=2.1 in /data/miniconda3/envs/env-3.6.8/lib/python3.6/site-packages (from matplotlib) (2.8.2)\n",
      "Requirement already satisfied: pyparsing!=2.0.4,!=2.1.2,!=2.1.6,>=2.0.3 in /data/miniconda3/envs/env-3.6.8/lib/python3.6/site-packages (from matplotlib) (3.0.9)\n",
      "Requirement already satisfied: numpy>=1.15 in /data/miniconda3/envs/env-3.6.8/lib/python3.6/site-packages (from matplotlib) (1.19.5)\n",
      "Requirement already satisfied: six>=1.5 in /data/miniconda3/envs/env-3.6.8/lib/python3.6/site-packages (from python-dateutil>=2.1->matplotlib) (1.15.0)\n",
      "Installing collected packages: kiwisolver, cycler, matplotlib\n",
      "Successfully installed cycler-0.11.0 kiwisolver-1.3.1 matplotlib-3.3.4\n",
      "Note: you may need to restart the kernel to use updated packages.\n"
     ]
    }
   ],
   "source": [
    "pip install matplotlib "
   ]
  },
  {
   "cell_type": "code",
   "execution_count": 6,
   "id": "b962aa18-a152-47f0-afb3-8d9f5974a7d7",
   "metadata": {},
   "outputs": [],
   "source": [
    "import pandas as pd \n",
    "import matplotlib.pyplot as plt \n",
    "import copy \n",
    "\n",
    "\n",
    "def second2day(x):\n",
    "    return x/(60*60*24)\n",
    "\n",
    "\n",
    "def df2Seq(filename): \n",
    "    test_df = pd.read_csv(filename)\n",
    "    test_df.sort_values(by=['unixReviewTime'], inplace=True)\n",
    "    test_df['unixReviewTime'] = test_df['unixReviewTime'].map(second2day)    \n",
    "    test_df.drop(columns=['reviewText', \"reviewTime\"], inplace=True)\n",
    "    # ReID users and items, save item ReID dict. \n",
    "    test_df['asin_id'] = pd.Categorical(test_df.asin).codes\n",
    "    test_df['asin_id'] = test_df[\"asin_id\"] + 1\n",
    "    d = {'asin': copy.deepcopy(test_df['asin']), 'id': copy.deepcopy(test_df['asin_id'])}\n",
    "    \n",
    "    test_df['asin'] = test_df[\"asin_id\"] + 1\n",
    "    df = pd.DataFrame(data=d)\n",
    "    test_df.drop(columns=[\"asin_id\"], inplace=True)\n",
    "    \n",
    "    test_df['reviewerID'] = pd.Categorical(test_df.reviewerID).codes\n",
    "    test_df['reviewerID'] = test_df[\"reviewerID\"] + 1\n",
    "    \n",
    "    seq_user = test_df.groupby(by='reviewerID').agg(lambda x: list(x))\n",
    "    seq_item = test_df.groupby(by='asin').agg(lambda x: list(x))\n",
    "    return seq_user, seq_item, df  \n"
   ]
  },
  {
   "cell_type": "code",
   "execution_count": 7,
   "id": "5808ede3-b3a6-4226-a455-85338c57aa25",
   "metadata": {},
   "outputs": [],
   "source": [
    "def get_statistics(filename): \n",
    "    df = pd.read_csv(filename)\n",
    "    \n",
    "    # number of users and items \n",
    "    n_user = len(set(df['reviewerID']))\n",
    "    n_item = len(set(df['asin']))\n",
    "    n_inter = len(df)\n",
    "    print(f\"n_user: {n_user}\\n n_item: {n_item} \\n interaction: {n_inter}\\n sparsity: {1 - n_inter/ (n_user * n_item)}\")\n",
    "    print(f\"average sequence length: {n_inter / n_user} \")\n",
    "    \n",
    "    # user and item info \n",
    "    df_user = df.groupby(by='reviewerID')['asin'].count().reset_index(name='count')\n",
    "    df_item = df.groupby(by='asin')['reviewerID'].count().reset_index(name='count')\n",
    "    \n",
    "    # rating scores \n",
    "    scores = df['overall'].tolist()\n",
    "    plt.hist(scores)\n",
    "    plt.show()    \n",
    "    \n",
    "    return df_user, df_item\n",
    "\n"
   ]
  },
  {
   "cell_type": "markdown",
   "id": "6902be34-1770-4e28-973f-11c130c92981",
   "metadata": {},
   "source": [
    "## CD "
   ]
  },
  {
   "cell_type": "code",
   "execution_count": 8,
   "id": "d294e0cc-aeaa-426f-9ee5-7efb15344c6c",
   "metadata": {
    "tags": []
   },
   "outputs": [
    {
     "name": "stdout",
     "output_type": "stream",
     "text": [
      "n_user: 26193\n",
      " n_item: 63592 \n",
      " interaction: 774591\n",
      " sparsity: 0.9995349659859868\n",
      "average sequence length: 29.57244301912725 \n"
     ]
    },
    {
     "data": {
      "image/png": "[encoded data removed]",
      "text/plain": [
       "<Figure size 432x288 with 1 Axes>"
      ]
     },
     "metadata": {
      "needs_background": "light"
     },
     "output_type": "display_data"
    }
   ],
   "source": [
    "# convert to user seq format \n",
    "# 1. order by time\n",
    "# 2. group by user \n",
    "user_pop, item_pop = get_statistics(\"/ceph/11329/chain/DHIN-CDR/datasets/amazon-cd/cd-u10-i5.csv\")\n",
    "user_seq, item_seq, item_df = df2Seq(\"/ceph/11329/chain/DHIN-CDR/datasets/amazon-cd/cd-u10-i5.csv\")"
   ]
  },
  {
   "cell_type": "code",
   "execution_count": 8,
   "id": "7be799d5-4c25-45c9-8676-64ff18ce710b",
   "metadata": {
    "tags": []
   },
   "outputs": [
    {
     "data": {
      "image/png": "[encoded data removed]",
      "text/plain": [
       "<Figure size 432x288 with 1 Axes>"
      ]
     },
     "metadata": {
      "needs_background": "light"
     },
     "output_type": "display_data"
    }
   ],
   "source": [
    "plt.hist(user_pop['count'].tolist())\n",
    "plt.show()"
   ]
  },
  {
   "cell_type": "code",
   "execution_count": 9,
   "id": "b0d956ed-ecda-4806-8d04-1847dc9cda93",
   "metadata": {
    "tags": []
   },
   "outputs": [
    {
     "data": {
      "image/png": "[encoded data removed]",
      "text/plain": [
       "<Figure size 432x288 with 1 Axes>"
      ]
     },
     "metadata": {
      "needs_background": "light"
     },
     "output_type": "display_data"
    }
   ],
   "source": [
    "plt.hist(item_pop['count'].tolist())\n",
    "plt.show()"
   ]
  },
  {
   "cell_type": "code",
   "execution_count": 20,
   "id": "0aa0bdc6-8d71-4a7c-a58c-3ccff14ae35c",
   "metadata": {},
   "outputs": [],
   "source": [
    "item_df.to_csv(\"/ceph/11329/chain/DHIN-CDR/datasets/amazon-cd/item_id.csv\")\n",
    "user_seq.to_csv(\"/ceph/11329/chain/DHIN-CDR/datasets/amazon-cd/user_seq.csv\")\n",
    "item_seq.to_csv(\"/ceph/11329/chain/DHIN-CDR/datasets/amazon-cd/item_seq.csv\")"
   ]
  },
  {
   "cell_type": "markdown",
   "id": "bb34c95a-582f-4b17-9abe-64d9dfe72cf9",
   "metadata": {},
   "source": [
    "## Book "
   ]
  },
  {
   "cell_type": "code",
   "execution_count": 9,
   "id": "e6026301-06ef-4f81-8d2e-885042f57fce",
   "metadata": {
    "tags": []
   },
   "outputs": [
    {
     "name": "stdout",
     "output_type": "stream",
     "text": [
      "n_user: 218106\n",
      " n_item: 365641 \n",
      " interaction: 6427897\n",
      " sparsity: 0.9999193978905339\n",
      "average sequence length: 29.471435907311125 \n"
     ]
    },
    {
     "data": {
      "image/png": "[encoded data removed]",
      "text/plain": [
       "<Figure size 432x288 with 1 Axes>"
      ]
     },
     "metadata": {
      "needs_background": "light"
     },
     "output_type": "display_data"
    }
   ],
   "source": [
    "user_pop, item_pop = get_statistics(\"/ceph/11329/chain/DHIN-CDR/datasets/amazon-book/book-u10-i5.csv\")\n",
    "user_seq, item_seq, item_df = df2Seq(\"/ceph/11329/chain/DHIN-CDR/datasets/amazon-book/book-u10-i5.csv\")"
   ]
  },
  {
   "cell_type": "code",
   "execution_count": 6,
   "id": "92405fe6-6f77-4653-8964-393d9e360cd6",
   "metadata": {
    "tags": []
   },
   "outputs": [
    {
     "data": {
      "image/png": "[encoded data removed]",
      "text/plain": [
       "<Figure size 432x288 with 1 Axes>"
      ]
     },
     "metadata": {
      "needs_background": "light"
     },
     "output_type": "display_data"
    }
   ],
   "source": [
    "plt.hist(user_pop['count'].tolist())\n",
    "plt.show()"
   ]
  },
  {
   "cell_type": "code",
   "execution_count": 7,
   "id": "01d1c79d-61cb-4387-9167-acb7446c3bef",
   "metadata": {
    "tags": []
   },
   "outputs": [
    {
     "data": {
      "image/png": "[encoded data removed]",
      "text/plain": [
       "<Figure size 432x288 with 1 Axes>"
      ]
     },
     "metadata": {
      "needs_background": "light"
     },
     "output_type": "display_data"
    }
   ],
   "source": [
    "plt.hist(item_pop['count'].tolist())\n",
    "plt.show()"
   ]
  },
  {
   "cell_type": "code",
   "execution_count": null,
   "id": "9dc840b2-10b8-4c4f-afe8-54f067b8fa74",
   "metadata": {},
   "outputs": [],
   "source": [
    "item_df.to_csv(\"/ceph/11329/chain/DHIN-CDR/datasets/amazon-book/item_id.csv\")\n",
    "user_seq.to_csv(\"/ceph/11329/chain/DHIN-CDR/datasets/amazon-book/user_seq.csv\")\n",
    "item_seq.to_csv(\"/ceph/11329/chain/DHIN-CDR/datasets/amazon-book/item_seq.csv\")"
   ]
  },
  {
   "cell_type": "markdown",
   "id": "5ec6f02d-8f94-4e16-9357-0f74e4d247d5",
   "metadata": {},
   "source": [
    "## Movie"
   ]
  },
  {
   "cell_type": "code",
   "execution_count": 10,
   "id": "a580c910-282e-4a84-aa7d-13b401fab2e6",
   "metadata": {},
   "outputs": [
    {
     "name": "stdout",
     "output_type": "stream",
     "text": [
      "n_user: 40593\n",
      " n_item: 49848 \n",
      " interaction: 1168233\n",
      " sparsity: 0.9994226614157204\n",
      "average sequence length: 28.779173749168574 \n"
     ]
    },
    {
     "data": {
      "image/png": "[encoded data removed]",
      "text/plain": [
       "<Figure size 432x288 with 1 Axes>"
      ]
     },
     "metadata": {
      "needs_background": "light"
     },
     "output_type": "display_data"
    }
   ],
   "source": [
    "user_pop, item_pop = get_statistics(\"/ceph/11329/chain/DHIN-CDR/datasets/amazon-movie/movie-u10-i5.csv\")\n",
    "user_seq, item_seq, item_df = df2Seq(\"/ceph/11329/chain/DHIN-CDR/datasets/amazon-movie/movie-u10-i5.csv\")"
   ]
  },
  {
   "cell_type": "code",
   "execution_count": 10,
   "id": "97fda039-2fde-4ee3-81f0-aba6e2ffd952",
   "metadata": {},
   "outputs": [
    {
     "data": {
      "image/png": "[encoded data removed]",
      "text/plain": [
       "<Figure size 432x288 with 1 Axes>"
      ]
     },
     "metadata": {
      "needs_background": "light"
     },
     "output_type": "display_data"
    }
   ],
   "source": [
    "plt.hist(user_pop['count'].tolist())\n",
    "plt.show()"
   ]
  },
  {
   "cell_type": "code",
   "execution_count": 11,
   "id": "a1232c62-dbfe-45bd-a7c4-74d4397493e6",
   "metadata": {},
   "outputs": [
    {
     "data": {
      "image/png": "[encoded data removed]",
      "text/plain": [
       "<Figure size 432x288 with 1 Axes>"
      ]
     },
     "metadata": {
      "needs_background": "light"
     },
     "output_type": "display_data"
    }
   ],
   "source": [
    "plt.hist(item_pop['count'].tolist())\n",
    "plt.show()"
   ]
  },
  {
   "cell_type": "code",
   "execution_count": null,
   "id": "031e18e4-61e1-4914-9018-c08c1b9b8f87",
   "metadata": {},
   "outputs": [],
   "source": [
    "item_df.to_csv(\"/ceph/11329/chain/DHIN-CDR/datasets/amazon-movie/item_id.csv\")\n",
    "user_seq.to_csv(\"/ceph/11329/chain/DHIN-CDR/datasets/amazon-movie/user_seq.csv\")\n",
    "item_seq.to_csv(\"/ceph/11329/chain/DHIN-CDR/datasets/amazon-movie/item_seq.csv\")"
   ]
  },
  {
   "cell_type": "code",
   "execution_count": 26,
   "id": "57c25903-ae53-487e-8fd4-64ce080a5f1b",
   "metadata": {},
   "outputs": [
    {
     "data": {
      "text/html": [
       "<div>\n",
       "<style scoped>\n",
       "    .dataframe tbody tr th:only-of-type {\n",
       "        vertical-align: middle;\n",
       "    }\n",
       "\n",
       "    .dataframe tbody tr th {\n",
       "        vertical-align: top;\n",
       "    }\n",
       "\n",
       "    .dataframe thead th {\n",
       "        text-align: right;\n",
       "    }\n",
       "</style>\n",
       "<table border=\"1\" class=\"dataframe\">\n",
       "  <thead>\n",
       "    <tr style=\"text-align: right;\">\n",
       "      <th></th>\n",
       "      <th>asin</th>\n",
       "      <th>overall</th>\n",
       "      <th>unixReviewTime</th>\n",
       "    </tr>\n",
       "    <tr>\n",
       "      <th>reviewerID</th>\n",
       "      <th></th>\n",
       "      <th></th>\n",
       "      <th></th>\n",
       "    </tr>\n",
       "  </thead>\n",
       "  <tbody>\n",
       "    <tr>\n",
       "      <th>1</th>\n",
       "      <td>[43686, 43954, 38975, 44240, 44838, 46493, 401...</td>\n",
       "      <td>[5.0, 4.0, 4.0, 3.0, 5.0, 1.0, 4.0, 4.0, 3.0, ...</td>\n",
       "      <td>[15675.0, 15675.0, 15675.0, 15675.0, 15675.0, ...</td>\n",
       "    </tr>\n",
       "    <tr>\n",
       "      <th>2</th>\n",
       "      <td>[38748, 1506, 30343, 49203, 47782, 29014, 4618...</td>\n",
       "      <td>[5.0, 5.0, 5.0, 2.0, 3.0, 5.0, 4.0, 5.0, 5.0, ...</td>\n",
       "      <td>[16044.0, 16045.0, 16048.0, 16049.0, 16050.0, ...</td>\n",
       "    </tr>\n",
       "    <tr>\n",
       "      <th>3</th>\n",
       "      <td>[45622, 30976, 29983, 19079, 20899, 28450, 268...</td>\n",
       "      <td>[5.0, 5.0, 5.0, 5.0, 5.0, 5.0, 5.0, 5.0, 5.0, ...</td>\n",
       "      <td>[15812.0, 15812.0, 15812.0, 15812.0, 15812.0, ...</td>\n",
       "    </tr>\n",
       "    <tr>\n",
       "      <th>4</th>\n",
       "      <td>[18206, 32699, 39007, 43254, 41645, 7172, 1248...</td>\n",
       "      <td>[5.0, 5.0, 5.0, 5.0, 4.0, 4.0, 2.0, 5.0, 5.0, ...</td>\n",
       "      <td>[15855.0, 15855.0, 15855.0, 15855.0, 15888.0, ...</td>\n",
       "    </tr>\n",
       "    <tr>\n",
       "      <th>5</th>\n",
       "      <td>[10321, 12412, 13231, 38982, 16096, 47118, 276...</td>\n",
       "      <td>[5.0, 5.0, 5.0, 4.0, 2.0, 4.0, 3.0, 5.0, 3.0, ...</td>\n",
       "      <td>[15760.0, 15760.0, 15760.0, 15760.0, 15789.0, ...</td>\n",
       "    </tr>\n",
       "    <tr>\n",
       "      <th>...</th>\n",
       "      <td>...</td>\n",
       "      <td>...</td>\n",
       "      <td>...</td>\n",
       "    </tr>\n",
       "    <tr>\n",
       "      <th>40589</th>\n",
       "      <td>[793, 785, 47084, 48148, 46715, 47775, 46564, ...</td>\n",
       "      <td>[4.0, 5.0, 4.0, 2.0, 3.0, 2.0, 4.0, 4.0, 3.0, ...</td>\n",
       "      <td>[15954.0, 15954.0, 15955.0, 15956.0, 15956.0, ...</td>\n",
       "    </tr>\n",
       "    <tr>\n",
       "      <th>40590</th>\n",
       "      <td>[32529, 42065, 36351, 41875, 42266, 17135, 182...</td>\n",
       "      <td>[4.0, 4.0, 4.0, 4.0, 5.0, 4.0, 5.0, 5.0, 4.0, ...</td>\n",
       "      <td>[14455.0, 15699.0, 15699.0, 15855.0, 15855.0, ...</td>\n",
       "    </tr>\n",
       "    <tr>\n",
       "      <th>40591</th>\n",
       "      <td>[48270, 47802, 48118, 45736, 46185, 46558, 484...</td>\n",
       "      <td>[5.0, 5.0, 4.0, 5.0, 5.0, 4.0, 5.0, 4.0, 5.0, ...</td>\n",
       "      <td>[15970.0, 15983.0, 15983.0, 16077.0, 16077.0, ...</td>\n",
       "    </tr>\n",
       "    <tr>\n",
       "      <th>40592</th>\n",
       "      <td>[465, 9079, 4962, 7233, 13186, 15639, 24240, 2...</td>\n",
       "      <td>[5.0, 5.0, 5.0, 5.0, 3.0, 3.0, 5.0, 5.0, 5.0, ...</td>\n",
       "      <td>[15234.0, 15234.0, 15254.0, 15254.0, 15254.0, ...</td>\n",
       "    </tr>\n",
       "    <tr>\n",
       "      <th>40593</th>\n",
       "      <td>[41944, 30348, 17085, 75, 17713, 7272, 46572, ...</td>\n",
       "      <td>[5.0, 5.0, 5.0, 3.0, 3.0, 4.0, 4.0, 5.0, 5.0, ...</td>\n",
       "      <td>[15755.0, 15755.0, 15755.0, 15755.0, 15756.0, ...</td>\n",
       "    </tr>\n",
       "  </tbody>\n",
       "</table>\n",
       "<p>40593 rows × 3 columns</p>\n",
       "</div>"
      ],
      "text/plain": [
       "                                                         asin  \\\n",
       "reviewerID                                                      \n",
       "1           [43686, 43954, 38975, 44240, 44838, 46493, 401...   \n",
       "2           [38748, 1506, 30343, 49203, 47782, 29014, 4618...   \n",
       "3           [45622, 30976, 29983, 19079, 20899, 28450, 268...   \n",
       "4           [18206, 32699, 39007, 43254, 41645, 7172, 1248...   \n",
       "5           [10321, 12412, 13231, 38982, 16096, 47118, 276...   \n",
       "...                                                       ...   \n",
       "40589       [793, 785, 47084, 48148, 46715, 47775, 46564, ...   \n",
       "40590       [32529, 42065, 36351, 41875, 42266, 17135, 182...   \n",
       "40591       [48270, 47802, 48118, 45736, 46185, 46558, 484...   \n",
       "40592       [465, 9079, 4962, 7233, 13186, 15639, 24240, 2...   \n",
       "40593       [41944, 30348, 17085, 75, 17713, 7272, 46572, ...   \n",
       "\n",
       "                                                      overall  \\\n",
       "reviewerID                                                      \n",
       "1           [5.0, 4.0, 4.0, 3.0, 5.0, 1.0, 4.0, 4.0, 3.0, ...   \n",
       "2           [5.0, 5.0, 5.0, 2.0, 3.0, 5.0, 4.0, 5.0, 5.0, ...   \n",
       "3           [5.0, 5.0, 5.0, 5.0, 5.0, 5.0, 5.0, 5.0, 5.0, ...   \n",
       "4           [5.0, 5.0, 5.0, 5.0, 4.0, 4.0, 2.0, 5.0, 5.0, ...   \n",
       "5           [5.0, 5.0, 5.0, 4.0, 2.0, 4.0, 3.0, 5.0, 3.0, ...   \n",
       "...                                                       ...   \n",
       "40589       [4.0, 5.0, 4.0, 2.0, 3.0, 2.0, 4.0, 4.0, 3.0, ...   \n",
       "40590       [4.0, 4.0, 4.0, 4.0, 5.0, 4.0, 5.0, 5.0, 4.0, ...   \n",
       "40591       [5.0, 5.0, 4.0, 5.0, 5.0, 4.0, 5.0, 4.0, 5.0, ...   \n",
       "40592       [5.0, 5.0, 5.0, 5.0, 3.0, 3.0, 5.0, 5.0, 5.0, ...   \n",
       "40593       [5.0, 5.0, 5.0, 3.0, 3.0, 4.0, 4.0, 5.0, 5.0, ...   \n",
       "\n",
       "                                               unixReviewTime  \n",
       "reviewerID                                                     \n",
       "1           [15675.0, 15675.0, 15675.0, 15675.0, 15675.0, ...  \n",
       "2           [16044.0, 16045.0, 16048.0, 16049.0, 16050.0, ...  \n",
       "3           [15812.0, 15812.0, 15812.0, 15812.0, 15812.0, ...  \n",
       "4           [15855.0, 15855.0, 15855.0, 15855.0, 15888.0, ...  \n",
       "5           [15760.0, 15760.0, 15760.0, 15760.0, 15789.0, ...  \n",
       "...                                                       ...  \n",
       "40589       [15954.0, 15954.0, 15955.0, 15956.0, 15956.0, ...  \n",
       "40590       [14455.0, 15699.0, 15699.0, 15855.0, 15855.0, ...  \n",
       "40591       [15970.0, 15983.0, 15983.0, 16077.0, 16077.0, ...  \n",
       "40592       [15234.0, 15234.0, 15254.0, 15254.0, 15254.0, ...  \n",
       "40593       [15755.0, 15755.0, 15755.0, 15755.0, 15756.0, ...  \n",
       "\n",
       "[40593 rows x 3 columns]"
      ]
     },
     "execution_count": 26,
     "metadata": {},
     "output_type": "execute_result"
    }
   ],
   "source": [
    "user_seq"
   ]
  },
  {
   "cell_type": "code",
   "execution_count": null,
   "id": "b275097e-40d5-4e6e-847a-261ceb4d895c",
   "metadata": {},
   "outputs": [],
   "source": []
  },
  {
   "cell_type": "raw",
   "id": "772f33a7-dfdf-4c16-a577-3d2a909787ac",
   "metadata": {},
   "source": [
    "Sequential recommendation. Do not need random split. "
   ]
  },
  {
   "cell_type": "markdown",
   "id": "e8eec2b4-71f2-47d3-af61-a96ff763de50",
   "metadata": {},
   "source": [
    "# Step 4, IDdict and data split  "
   ]
  },
  {
   "cell_type": "code",
   "execution_count": 10,
   "id": "107e5abc-07db-4afb-a4ca-62d538bb6b8c",
   "metadata": {},
   "outputs": [],
   "source": [
    "def train_valid_test(filename): \n",
    "    test_df = pd.read_csv(filename)\n",
    "    data_train = {'uid': [], \"item_seq\": [], \"time_seq\": [], \"rate\": []}   # key: user_ID\n",
    "    data_valid = {'uid': [], \"item_seq\": [], \"time_seq\": [], \"rate\": []}\n",
    "    data_test = {'uid': [], \"item_seq\": [], \"time_seq\": [], \"rate\": []}\n",
    "    \n",
    "    for index, row in test_df.iterrows():\n",
    "        uid = row['reviewerID']\n",
    "        item_seq = eval(row['asin'])\n",
    "        time_seq = eval(row['unixReviewTime'])\n",
    "        ratings = eval(row['overall'])\n",
    "        \n",
    "        # split time? \n",
    "        seq_len = len(item_seq)\n",
    "        # train_num = int(seq_len * 0.6) \n",
    "        train_num = seq_len - 4 \n",
    "        valid_num = 2\n",
    "        \n",
    "        item_seq_train = item_seq[0:train_num]\n",
    "        item_seq_valid = item_seq[train_num:train_num + valid_num]\n",
    "        item_seq_test = item_seq[train_num + valid_num:]\n",
    "        \n",
    "        time_seq_train = time_seq[0:train_num]\n",
    "        time_seq_valid = time_seq[train_num:train_num + valid_num]\n",
    "        time_seq_test = time_seq[train_num + valid_num:]\n",
    "        \n",
    "        rate_seq_train = ratings[0:train_num]\n",
    "        rate_seq_valid = ratings[train_num:train_num + valid_num]\n",
    "        rate_seq_test = ratings[train_num + valid_num:]\n",
    "        \n",
    "        data_train['uid'].append(uid)\n",
    "        data_train['item_seq'].append(item_seq_train)\n",
    "        data_train['time_seq'].append(time_seq_train)\n",
    "        data_train['rate'].append(rate_seq_train)\n",
    "        \n",
    "        data_valid['uid'].append(uid)\n",
    "        data_valid['item_seq'].append(item_seq_valid)\n",
    "        data_valid['time_seq'].append(time_seq_valid)\n",
    "        data_valid['rate'].append(rate_seq_valid)\n",
    "        \n",
    "        data_test['uid'].append(uid)\n",
    "        data_test['item_seq'].append(item_seq_test)\n",
    "        data_test['time_seq'].append(time_seq_test)\n",
    "        data_test['rate'].append(rate_seq_test)\n",
    "        \n",
    "    df_train = pd.DataFrame.from_dict(data_train) \n",
    "    df_valid = pd.DataFrame.from_dict(data_valid)\n",
    "    df_test = pd.DataFrame.from_dict(data_test)\n",
    "    \n",
    "    return df_train, df_valid, df_test\n",
    "\n",
    "\n",
    "\n",
    "def get_new_items(train_f, valid_f, test_f): \n",
    "    # valid and test items that are not shown in training. \n",
    "    df = pd.read_csv(train_f)\n",
    "    train_items = set()\n",
    "    for index, row in df.iterrows():\n",
    "        train_items.update(set(eval(row['item_seq'])))\n",
    "        \n",
    "    df = pd.read_csv(valid_f)\n",
    "    valid_items = set()\n",
    "    for index, row in df.iterrows():\n",
    "        valid_items.update(set(eval(row['item_seq'])))\n",
    "    \n",
    "    df = pd.read_csv(test_f)\n",
    "    test_items = set()\n",
    "    for index, row in df.iterrows():\n",
    "        test_items.update(set(eval(row['item_seq'])))\n",
    "    \n",
    "    # new valid items \n",
    "    new_valid = []\n",
    "    for item in valid_items: \n",
    "        if item not in train_items:\n",
    "            new_valid.append(item)\n",
    "        \n",
    "    # new test items \n",
    "    new_test = []\n",
    "    for item in test_items: \n",
    "        if item not in train_items:\n",
    "            new_test.append(item)\n",
    "        \n",
    "    print(\"new valid items: \")\n",
    "    print(len(new_valid), len(new_valid) / len(valid_items))\n",
    "    print(\"new test items: \")\n",
    "    print(len(new_test), len(new_test) / len(test_items))\n",
    "    return new_valid, new_test\n",
    "    \n",
    "\n",
    "def train_ratio_interaction(train_f, valid_f, test_f): \n",
    "    # valid and test items that are not shown in training. \n",
    "    n_train = 0 \n",
    "    df = pd.read_csv(train_f)\n",
    "    for index, row in df.iterrows():\n",
    "        n_train += len(eval(row['item_seq']))\n",
    "    \n",
    "    n_valid = 0\n",
    "    df = pd.read_csv(valid_f)\n",
    "    for index, row in df.iterrows():\n",
    "        n_valid += len(eval(row['item_seq']))\n",
    "    \n",
    "    n_test = 0\n",
    "    df = pd.read_csv(test_f)\n",
    "    for index, row in df.iterrows():\n",
    "        n_test +=len(eval(row['item_seq']))\n",
    "    total_int = n_train + n_valid + n_test\n",
    "    print(f\"total inters: {total_int}\")    \n",
    "    print(f\"train_ratio: {n_train/total_int}\")\n",
    "    print(f\"valid_ratio: {n_valid/total_int}\")\n",
    "    print(f\"test_ratio: {n_test/total_int}\")\n",
    "    \n",
    "    \n",
    "# TODO.  what is all unseen? \n",
    "\n",
    "# def remove_unseen(df, unseen_set): \n",
    "#     for index, row in df.iterrows():\n",
    "#         for i in range(len(row[\"uid\"])): \n",
    "#             if row[\"uid\"][i] in unseen_set:\n"
   ]
  },
  {
   "cell_type": "markdown",
   "id": "eb7482dc-f711-413f-a45a-7c025aa444b8",
   "metadata": {},
   "source": [
    "## movie-cd"
   ]
  },
  {
   "cell_type": "code",
   "execution_count": 4,
   "id": "eb3a5dd5-8f58-408c-af92-0923caf7ec49",
   "metadata": {},
   "outputs": [],
   "source": [
    "# CD \n",
    "df_train, df_valid, df_test = train_valid_test(\"/ceph/11329/chain/DHIN-CDR/datasets/movie-cd/cd_user_seq.csv\")"
   ]
  },
  {
   "cell_type": "code",
   "execution_count": 5,
   "id": "2a739bdc-70fa-4faa-906e-ebaa28b06c27",
   "metadata": {},
   "outputs": [],
   "source": [
    "# save to file \n",
    "df_train.to_csv('/ceph/11329/chain/DHIN-CDR/datasets/movie-cd/cd_user_seq_train.csv') \n",
    "df_valid.to_csv('/ceph/11329/chain/DHIN-CDR/datasets/movie-cd/cd_user_seq_valid.csv') \n",
    "df_test.to_csv('/ceph/11329/chain/DHIN-CDR/datasets/movie-cd/cd_user_seq_test.csv') "
   ]
  },
  {
   "cell_type": "code",
   "execution_count": 7,
   "id": "140528d4-5483-4285-96ca-7044a02d8fc7",
   "metadata": {
    "tags": []
   },
   "outputs": [
    {
     "data": {
      "text/html": [
       "<div>\n",
       "<style scoped>\n",
       "    .dataframe tbody tr th:only-of-type {\n",
       "        vertical-align: middle;\n",
       "    }\n",
       "\n",
       "    .dataframe tbody tr th {\n",
       "        vertical-align: top;\n",
       "    }\n",
       "\n",
       "    .dataframe thead th {\n",
       "        text-align: right;\n",
       "    }\n",
       "</style>\n",
       "<table border=\"1\" class=\"dataframe\">\n",
       "  <thead>\n",
       "    <tr style=\"text-align: right;\">\n",
       "      <th></th>\n",
       "      <th>uid</th>\n",
       "      <th>item_seq</th>\n",
       "      <th>time_seq</th>\n",
       "      <th>rate</th>\n",
       "    </tr>\n",
       "  </thead>\n",
       "  <tbody>\n",
       "    <tr>\n",
       "      <th>0</th>\n",
       "      <td>A0644664269UTSPKMVCVH</td>\n",
       "      <td>[B000002IIG, B000002U8Y]</td>\n",
       "      <td>[15910.0, 15955.0]</td>\n",
       "      <td>[4.0, 4.0]</td>\n",
       "    </tr>\n",
       "    <tr>\n",
       "      <th>1</th>\n",
       "      <td>A08161909WK3HU7UYTMW</td>\n",
       "      <td>[B000002HRC, B00AMPY4U0]</td>\n",
       "      <td>[16189.0, 16222.0]</td>\n",
       "      <td>[5.0, 2.0]</td>\n",
       "    </tr>\n",
       "    <tr>\n",
       "      <th>2</th>\n",
       "      <td>A1006V961PBMKA</td>\n",
       "      <td>[B000F48CD8, B000BDGVU4]</td>\n",
       "      <td>[13298.0, 13381.0]</td>\n",
       "      <td>[3.0, 5.0]</td>\n",
       "    </tr>\n",
       "    <tr>\n",
       "      <th>3</th>\n",
       "      <td>A100JCBNALJFAW</td>\n",
       "      <td>[B000007T1M, B00000098N]</td>\n",
       "      <td>[13113.0, 13441.0]</td>\n",
       "      <td>[4.0, 5.0]</td>\n",
       "    </tr>\n",
       "    <tr>\n",
       "      <th>4</th>\n",
       "      <td>A101L4HF0IZ33C</td>\n",
       "      <td>[B00004XSVQ, B00F3VOL38]</td>\n",
       "      <td>[15718.0, 16074.0]</td>\n",
       "      <td>[5.0, 5.0]</td>\n",
       "    </tr>\n",
       "    <tr>\n",
       "      <th>...</th>\n",
       "      <td>...</td>\n",
       "      <td>...</td>\n",
       "      <td>...</td>\n",
       "      <td>...</td>\n",
       "    </tr>\n",
       "    <tr>\n",
       "      <th>6257</th>\n",
       "      <td>AZWIW0T8UFBU1</td>\n",
       "      <td>[B000002TSU, B000008FIN]</td>\n",
       "      <td>[14911.0, 15016.0]</td>\n",
       "      <td>[4.0, 2.0]</td>\n",
       "    </tr>\n",
       "    <tr>\n",
       "      <th>6258</th>\n",
       "      <td>AZXHK8IO25FL6</td>\n",
       "      <td>[B0009298QQ, B0007OP0UE]</td>\n",
       "      <td>[13065.0, 13067.0]</td>\n",
       "      <td>[4.0, 5.0]</td>\n",
       "    </tr>\n",
       "    <tr>\n",
       "      <th>6259</th>\n",
       "      <td>AZXP46IB63PU8</td>\n",
       "      <td>[B000CNF4L0, B00004Y6SQ]</td>\n",
       "      <td>[16231.0, 16268.0]</td>\n",
       "      <td>[5.0, 4.0]</td>\n",
       "    </tr>\n",
       "    <tr>\n",
       "      <th>6260</th>\n",
       "      <td>AZXR5HB99P936</td>\n",
       "      <td>[B0009GV9LO, B000FS9JC2]</td>\n",
       "      <td>[15767.0, 15767.0]</td>\n",
       "      <td>[5.0, 5.0]</td>\n",
       "    </tr>\n",
       "    <tr>\n",
       "      <th>6261</th>\n",
       "      <td>AZYZILYSQA6VQ</td>\n",
       "      <td>[B000062Y44, B001CITREY]</td>\n",
       "      <td>[14412.0, 14412.0]</td>\n",
       "      <td>[3.0, 4.0]</td>\n",
       "    </tr>\n",
       "  </tbody>\n",
       "</table>\n",
       "<p>6262 rows × 4 columns</p>\n",
       "</div>"
      ],
      "text/plain": [
       "                        uid                  item_seq            time_seq  \\\n",
       "0     A0644664269UTSPKMVCVH  [B000002IIG, B000002U8Y]  [15910.0, 15955.0]   \n",
       "1      A08161909WK3HU7UYTMW  [B000002HRC, B00AMPY4U0]  [16189.0, 16222.0]   \n",
       "2            A1006V961PBMKA  [B000F48CD8, B000BDGVU4]  [13298.0, 13381.0]   \n",
       "3            A100JCBNALJFAW  [B000007T1M, B00000098N]  [13113.0, 13441.0]   \n",
       "4            A101L4HF0IZ33C  [B00004XSVQ, B00F3VOL38]  [15718.0, 16074.0]   \n",
       "...                     ...                       ...                 ...   \n",
       "6257          AZWIW0T8UFBU1  [B000002TSU, B000008FIN]  [14911.0, 15016.0]   \n",
       "6258          AZXHK8IO25FL6  [B0009298QQ, B0007OP0UE]  [13065.0, 13067.0]   \n",
       "6259          AZXP46IB63PU8  [B000CNF4L0, B00004Y6SQ]  [16231.0, 16268.0]   \n",
       "6260          AZXR5HB99P936  [B0009GV9LO, B000FS9JC2]  [15767.0, 15767.0]   \n",
       "6261          AZYZILYSQA6VQ  [B000062Y44, B001CITREY]  [14412.0, 14412.0]   \n",
       "\n",
       "            rate  \n",
       "0     [4.0, 4.0]  \n",
       "1     [5.0, 2.0]  \n",
       "2     [3.0, 5.0]  \n",
       "3     [4.0, 5.0]  \n",
       "4     [5.0, 5.0]  \n",
       "...          ...  \n",
       "6257  [4.0, 2.0]  \n",
       "6258  [4.0, 5.0]  \n",
       "6259  [5.0, 4.0]  \n",
       "6260  [5.0, 5.0]  \n",
       "6261  [3.0, 4.0]  \n",
       "\n",
       "[6262 rows x 4 columns]"
      ]
     },
     "execution_count": 7,
     "metadata": {},
     "output_type": "execute_result"
    }
   ],
   "source": [
    "df_valid"
   ]
  },
  {
   "cell_type": "code",
   "execution_count": 11,
   "id": "b0e93ea0-5009-4bca-8f4c-35c4b14ae699",
   "metadata": {},
   "outputs": [
    {
     "name": "stdout",
     "output_type": "stream",
     "text": [
      "new valid items: \n",
      "457 0.05465199712987324\n",
      "new test items: \n",
      "554 0.06759394826744754\n",
      "total inters: 374758\n",
      "train_ratio: 0.9331622006735013\n",
      "valid_ratio: 0.03341889966324935\n",
      "test_ratio: 0.03341889966324935\n"
     ]
    }
   ],
   "source": [
    "train_f = '/ceph/11329/chain/DHIN-CDR/datasets/movie-cd/movie_user_seq_train.csv'\n",
    "valid_f = '/ceph/11329/chain/DHIN-CDR/datasets/movie-cd/movie_user_seq_valid.csv'\n",
    "test_f = '/ceph/11329/chain/DHIN-CDR/datasets/movie-cd/movie_user_seq_test.csv'\n",
    "\n",
    "new_val_movie, new_test_movie = get_new_items(train_f, valid_f, test_f)\n",
    "train_ratio_interaction(train_f, valid_f, test_f)"
   ]
  },
  {
   "cell_type": "code",
   "execution_count": null,
   "id": "fa1b91af-36d9-4f71-8849-6a05551bd43c",
   "metadata": {},
   "outputs": [],
   "source": [
    "# save new id or just remove new items in valid and test sets :  -> Remove\n",
    "\n"
   ]
  },
  {
   "cell_type": "code",
   "execution_count": 12,
   "id": "a9301d49-625b-47b5-8082-00aa9dca60ac",
   "metadata": {},
   "outputs": [
    {
     "name": "stdout",
     "output_type": "stream",
     "text": [
      "new valid items: \n",
      "642 0.06705661165656987\n",
      "new test items: \n",
      "814 0.0868081475951797\n",
      "total inters: 320464\n",
      "train_ratio: 0.9218383344150981\n",
      "valid_ratio: 0.03908083279245095\n",
      "test_ratio: 0.03908083279245095\n"
     ]
    }
   ],
   "source": [
    "train_f = '/ceph/11329/chain/DHIN-CDR/datasets/movie-cd/cd_user_seq_train.csv'\n",
    "valid_f = '/ceph/11329/chain/DHIN-CDR/datasets/movie-cd/cd_user_seq_valid.csv'\n",
    "test_f = '/ceph/11329/chain/DHIN-CDR/datasets/movie-cd/cd_user_seq_test.csv'\n",
    "\n",
    "new_val_cd, new_test_cd = get_new_items(train_f, valid_f, test_f)\n",
    "train_ratio_interaction(train_f, valid_f, test_f)\n"
   ]
  },
  {
   "cell_type": "code",
   "execution_count": null,
   "id": "b11d1b2f-ddc1-48ff-a012-869c46d66886",
   "metadata": {},
   "outputs": [],
   "source": []
  },
  {
   "cell_type": "code",
   "execution_count": null,
   "id": "1e5301d9-a87b-4ede-b5ab-fc80fe0af8e4",
   "metadata": {},
   "outputs": [],
   "source": []
  },
  {
   "cell_type": "code",
   "execution_count": null,
   "id": "45e91e5b-4806-487a-a885-e7362353d8a7",
   "metadata": {},
   "outputs": [],
   "source": []
  },
  {
   "cell_type": "markdown",
   "id": "628b3159-fd2a-438c-82dc-c560898bde9f",
   "metadata": {},
   "source": [
    "# Test code\n"
   ]
  },
  {
   "cell_type": "code",
   "execution_count": 2,
   "id": "92a59b7a-f1c9-4bbe-9d57-8abd8f167002",
   "metadata": {},
   "outputs": [
    {
     "data": {
      "text/html": [
       "<div>\n",
       "<style scoped>\n",
       "    .dataframe tbody tr th:only-of-type {\n",
       "        vertical-align: middle;\n",
       "    }\n",
       "\n",
       "    .dataframe tbody tr th {\n",
       "        vertical-align: top;\n",
       "    }\n",
       "\n",
       "    .dataframe thead th {\n",
       "        text-align: right;\n",
       "    }\n",
       "</style>\n",
       "<table border=\"1\" class=\"dataframe\">\n",
       "  <thead>\n",
       "    <tr style=\"text-align: right;\">\n",
       "      <th></th>\n",
       "      <th>reviewerID</th>\n",
       "      <th>asin</th>\n",
       "      <th>reviewText</th>\n",
       "      <th>overall</th>\n",
       "      <th>unixReviewTime</th>\n",
       "      <th>reviewTime</th>\n",
       "    </tr>\n",
       "  </thead>\n",
       "  <tbody>\n",
       "    <tr>\n",
       "      <th>0</th>\n",
       "      <td>A2H3ISQ4QB95XN</td>\n",
       "      <td>0307141985</td>\n",
       "      <td>Thanksgiving is devoid of icons to make it a f...</td>\n",
       "      <td>4.0</td>\n",
       "      <td>1322006400</td>\n",
       "      <td>11 23, 2011</td>\n",
       "    </tr>\n",
       "    <tr>\n",
       "      <th>1</th>\n",
       "      <td>A2H3ISQ4QB95XN</td>\n",
       "      <td>6302682649</td>\n",
       "      <td>THE FIRST EASTER RABBIT is another holiday gem...</td>\n",
       "      <td>4.0</td>\n",
       "      <td>1267315200</td>\n",
       "      <td>02 28, 2010</td>\n",
       "    </tr>\n",
       "    <tr>\n",
       "      <th>2</th>\n",
       "      <td>A2H3ISQ4QB95XN</td>\n",
       "      <td>B000000CWY</td>\n",
       "      <td>There may be lots of other Peggy Lee collectio...</td>\n",
       "      <td>5.0</td>\n",
       "      <td>1293926400</td>\n",
       "      <td>01 2, 2011</td>\n",
       "    </tr>\n",
       "    <tr>\n",
       "      <th>3</th>\n",
       "      <td>A2H3ISQ4QB95XN</td>\n",
       "      <td>B000003JAL</td>\n",
       "      <td>There are not many albums that are as equally ...</td>\n",
       "      <td>5.0</td>\n",
       "      <td>1369094400</td>\n",
       "      <td>05 21, 2013</td>\n",
       "    </tr>\n",
       "    <tr>\n",
       "      <th>4</th>\n",
       "      <td>A2H3ISQ4QB95XN</td>\n",
       "      <td>B000003JD3</td>\n",
       "      <td>These remixed versions of Blondie's hits sound...</td>\n",
       "      <td>2.0</td>\n",
       "      <td>1293926400</td>\n",
       "      <td>01 2, 2011</td>\n",
       "    </tr>\n",
       "  </tbody>\n",
       "</table>\n",
       "</div>"
      ],
      "text/plain": [
       "       reviewerID        asin  \\\n",
       "0  A2H3ISQ4QB95XN  0307141985   \n",
       "1  A2H3ISQ4QB95XN  6302682649   \n",
       "2  A2H3ISQ4QB95XN  B000000CWY   \n",
       "3  A2H3ISQ4QB95XN  B000003JAL   \n",
       "4  A2H3ISQ4QB95XN  B000003JD3   \n",
       "\n",
       "                                          reviewText  overall  unixReviewTime  \\\n",
       "0  Thanksgiving is devoid of icons to make it a f...      4.0      1322006400   \n",
       "1  THE FIRST EASTER RABBIT is another holiday gem...      4.0      1267315200   \n",
       "2  There may be lots of other Peggy Lee collectio...      5.0      1293926400   \n",
       "3  There are not many albums that are as equally ...      5.0      1369094400   \n",
       "4  These remixed versions of Blondie's hits sound...      2.0      1293926400   \n",
       "\n",
       "    reviewTime  \n",
       "0  11 23, 2011  \n",
       "1  02 28, 2010  \n",
       "2   01 2, 2011  \n",
       "3  05 21, 2013  \n",
       "4   01 2, 2011  "
      ]
     },
     "execution_count": 2,
     "metadata": {},
     "output_type": "execute_result"
    }
   ],
   "source": [
    "df_test = pd.read_csv(\"/ceph/11329/chain/DHIN-CDR/datasets/movie-cd/cd.csv\")\n",
    "df_test.head()"
   ]
  },
  {
   "cell_type": "code",
   "execution_count": 6,
   "id": "78fca635-4e2e-4246-8216-12015e921d10",
   "metadata": {},
   "outputs": [],
   "source": [
    "df = pd.read_csv(\"/ceph/11329/chain/DHIN-CDR/datasets/movie-cd/movie.csv\")"
   ]
  },
  {
   "cell_type": "code",
   "execution_count": 7,
   "id": "60916d1e-3e93-40a4-8831-a9a5b96fdb22",
   "metadata": {},
   "outputs": [
    {
     "data": {
      "text/html": [
       "<div>\n",
       "<style scoped>\n",
       "    .dataframe tbody tr th:only-of-type {\n",
       "        vertical-align: middle;\n",
       "    }\n",
       "\n",
       "    .dataframe tbody tr th {\n",
       "        vertical-align: top;\n",
       "    }\n",
       "\n",
       "    .dataframe thead th {\n",
       "        text-align: right;\n",
       "    }\n",
       "</style>\n",
       "<table border=\"1\" class=\"dataframe\">\n",
       "  <thead>\n",
       "    <tr style=\"text-align: right;\">\n",
       "      <th></th>\n",
       "      <th>reviewerID</th>\n",
       "      <th>asin</th>\n",
       "      <th>reviewText</th>\n",
       "      <th>overall</th>\n",
       "      <th>unixReviewTime</th>\n",
       "      <th>reviewTime</th>\n",
       "    </tr>\n",
       "  </thead>\n",
       "  <tbody>\n",
       "    <tr>\n",
       "      <th>0</th>\n",
       "      <td>A1GHUN5HXMHZ89</td>\n",
       "      <td>0005019281</td>\n",
       "      <td>The first time I saw &amp;#34;An American Christma...</td>\n",
       "      <td>5.0</td>\n",
       "      <td>1387670400</td>\n",
       "      <td>12 22, 2013</td>\n",
       "    </tr>\n",
       "    <tr>\n",
       "      <th>1</th>\n",
       "      <td>A1GHUN5HXMHZ89</td>\n",
       "      <td>0307514161</td>\n",
       "      <td>If you like Christmas movies besides \"The Nigh...</td>\n",
       "      <td>5.0</td>\n",
       "      <td>1036368000</td>\n",
       "      <td>11 4, 2002</td>\n",
       "    </tr>\n",
       "    <tr>\n",
       "      <th>2</th>\n",
       "      <td>A1GHUN5HXMHZ89</td>\n",
       "      <td>076400459X</td>\n",
       "      <td>Similiarities to the Enemy Mine movie could be...</td>\n",
       "      <td>3.0</td>\n",
       "      <td>1104105600</td>\n",
       "      <td>12 27, 2004</td>\n",
       "    </tr>\n",
       "    <tr>\n",
       "      <th>3</th>\n",
       "      <td>A1GHUN5HXMHZ89</td>\n",
       "      <td>0767802497</td>\n",
       "      <td>Do you ever get in the mood to watch people ea...</td>\n",
       "      <td>3.0</td>\n",
       "      <td>1219190400</td>\n",
       "      <td>08 20, 2008</td>\n",
       "    </tr>\n",
       "    <tr>\n",
       "      <th>4</th>\n",
       "      <td>A1GHUN5HXMHZ89</td>\n",
       "      <td>0767802624</td>\n",
       "      <td>Excellent story, casting, director, and music....</td>\n",
       "      <td>5.0</td>\n",
       "      <td>1036368000</td>\n",
       "      <td>11 4, 2002</td>\n",
       "    </tr>\n",
       "    <tr>\n",
       "      <th>...</th>\n",
       "      <td>...</td>\n",
       "      <td>...</td>\n",
       "      <td>...</td>\n",
       "      <td>...</td>\n",
       "      <td>...</td>\n",
       "      <td>...</td>\n",
       "    </tr>\n",
       "    <tr>\n",
       "      <th>558013</th>\n",
       "      <td>ADB1FDDVD54UN</td>\n",
       "      <td>B00AIBZLVY</td>\n",
       "      <td>Creepy movie with lots of good scares.  What s...</td>\n",
       "      <td>4.0</td>\n",
       "      <td>1368403200</td>\n",
       "      <td>05 13, 2013</td>\n",
       "    </tr>\n",
       "    <tr>\n",
       "      <th>558014</th>\n",
       "      <td>ADB1FDDVD54UN</td>\n",
       "      <td>B00B04NJI0</td>\n",
       "      <td>26 short horror films of varying quality, rang...</td>\n",
       "      <td>4.0</td>\n",
       "      <td>1367712000</td>\n",
       "      <td>05 5, 2013</td>\n",
       "    </tr>\n",
       "    <tr>\n",
       "      <th>558015</th>\n",
       "      <td>ADB1FDDVD54UN</td>\n",
       "      <td>B00BEIYMIS</td>\n",
       "      <td>The Conjuring&amp;#34; is a disappointing example ...</td>\n",
       "      <td>3.0</td>\n",
       "      <td>1387843200</td>\n",
       "      <td>12 24, 2013</td>\n",
       "    </tr>\n",
       "    <tr>\n",
       "      <th>558016</th>\n",
       "      <td>ADB1FDDVD54UN</td>\n",
       "      <td>B00C7C00JU</td>\n",
       "      <td>&amp;#34;The Lords of Salem&amp;#34; is in many ways R...</td>\n",
       "      <td>4.0</td>\n",
       "      <td>1387843200</td>\n",
       "      <td>12 24, 2013</td>\n",
       "    </tr>\n",
       "    <tr>\n",
       "      <th>558017</th>\n",
       "      <td>ADB1FDDVD54UN</td>\n",
       "      <td>B00CERJINC</td>\n",
       "      <td>There's not much to the story--WW2 Soviet sold...</td>\n",
       "      <td>4.0</td>\n",
       "      <td>1376438400</td>\n",
       "      <td>08 14, 2013</td>\n",
       "    </tr>\n",
       "  </tbody>\n",
       "</table>\n",
       "<p>558018 rows × 6 columns</p>\n",
       "</div>"
      ],
      "text/plain": [
       "            reviewerID        asin  \\\n",
       "0       A1GHUN5HXMHZ89  0005019281   \n",
       "1       A1GHUN5HXMHZ89  0307514161   \n",
       "2       A1GHUN5HXMHZ89  076400459X   \n",
       "3       A1GHUN5HXMHZ89  0767802497   \n",
       "4       A1GHUN5HXMHZ89  0767802624   \n",
       "...                ...         ...   \n",
       "558013   ADB1FDDVD54UN  B00AIBZLVY   \n",
       "558014   ADB1FDDVD54UN  B00B04NJI0   \n",
       "558015   ADB1FDDVD54UN  B00BEIYMIS   \n",
       "558016   ADB1FDDVD54UN  B00C7C00JU   \n",
       "558017   ADB1FDDVD54UN  B00CERJINC   \n",
       "\n",
       "                                               reviewText  overall  \\\n",
       "0       The first time I saw &#34;An American Christma...      5.0   \n",
       "1       If you like Christmas movies besides \"The Nigh...      5.0   \n",
       "2       Similiarities to the Enemy Mine movie could be...      3.0   \n",
       "3       Do you ever get in the mood to watch people ea...      3.0   \n",
       "4       Excellent story, casting, director, and music....      5.0   \n",
       "...                                                   ...      ...   \n",
       "558013  Creepy movie with lots of good scares.  What s...      4.0   \n",
       "558014  26 short horror films of varying quality, rang...      4.0   \n",
       "558015  The Conjuring&#34; is a disappointing example ...      3.0   \n",
       "558016  &#34;The Lords of Salem&#34; is in many ways R...      4.0   \n",
       "558017  There's not much to the story--WW2 Soviet sold...      4.0   \n",
       "\n",
       "        unixReviewTime   reviewTime  \n",
       "0           1387670400  12 22, 2013  \n",
       "1           1036368000   11 4, 2002  \n",
       "2           1104105600  12 27, 2004  \n",
       "3           1219190400  08 20, 2008  \n",
       "4           1036368000   11 4, 2002  \n",
       "...                ...          ...  \n",
       "558013      1368403200  05 13, 2013  \n",
       "558014      1367712000   05 5, 2013  \n",
       "558015      1387843200  12 24, 2013  \n",
       "558016      1387843200  12 24, 2013  \n",
       "558017      1376438400  08 14, 2013  \n",
       "\n",
       "[558018 rows x 6 columns]"
      ]
     },
     "execution_count": 7,
     "metadata": {},
     "output_type": "execute_result"
    }
   ],
   "source": [
    "df"
   ]
  },
  {
   "cell_type": "code",
   "execution_count": 8,
   "id": "2e5ab7a8-d2a2-4318-8e00-37450b6fd440",
   "metadata": {},
   "outputs": [],
   "source": [
    "df.sort_values(by=['unixReviewTime'], inplace=True)"
   ]
  },
  {
   "cell_type": "code",
   "execution_count": 9,
   "id": "a5c6dc2a-c003-40a6-be21-dca12c98e40b",
   "metadata": {},
   "outputs": [
    {
     "data": {
      "text/html": [
       "<div>\n",
       "<style scoped>\n",
       "    .dataframe tbody tr th:only-of-type {\n",
       "        vertical-align: middle;\n",
       "    }\n",
       "\n",
       "    .dataframe tbody tr th {\n",
       "        vertical-align: top;\n",
       "    }\n",
       "\n",
       "    .dataframe thead th {\n",
       "        text-align: right;\n",
       "    }\n",
       "</style>\n",
       "<table border=\"1\" class=\"dataframe\">\n",
       "  <thead>\n",
       "    <tr style=\"text-align: right;\">\n",
       "      <th></th>\n",
       "      <th>reviewerID</th>\n",
       "      <th>asin</th>\n",
       "      <th>reviewText</th>\n",
       "      <th>overall</th>\n",
       "      <th>unixReviewTime</th>\n",
       "      <th>reviewTime</th>\n",
       "    </tr>\n",
       "  </thead>\n",
       "  <tbody>\n",
       "    <tr>\n",
       "      <th>472018</th>\n",
       "      <td>A2DEQIN34WWO9I</td>\n",
       "      <td>0792153189</td>\n",
       "      <td>While Armageddon was just another plotless Bru...</td>\n",
       "      <td>5.0</td>\n",
       "      <td>946684800</td>\n",
       "      <td>01 1, 2000</td>\n",
       "    </tr>\n",
       "    <tr>\n",
       "      <th>483084</th>\n",
       "      <td>A22PBUV0TICYGO</td>\n",
       "      <td>1567301584</td>\n",
       "      <td>An absolutely beautiful movie about a hopeless...</td>\n",
       "      <td>5.0</td>\n",
       "      <td>946684800</td>\n",
       "      <td>01 1, 2000</td>\n",
       "    </tr>\n",
       "    <tr>\n",
       "      <th>299483</th>\n",
       "      <td>A49XO4MO130OS</td>\n",
       "      <td>0790732181</td>\n",
       "      <td>This has always been one of my favorite movies...</td>\n",
       "      <td>5.0</td>\n",
       "      <td>946684800</td>\n",
       "      <td>01 1, 2000</td>\n",
       "    </tr>\n",
       "    <tr>\n",
       "      <th>279615</th>\n",
       "      <td>AXMKAXC0TR9AW</td>\n",
       "      <td>6302824842</td>\n",
       "      <td>This movie rates with The Jolson Story.  Anyon...</td>\n",
       "      <td>5.0</td>\n",
       "      <td>946684800</td>\n",
       "      <td>01 1, 2000</td>\n",
       "    </tr>\n",
       "    <tr>\n",
       "      <th>279613</th>\n",
       "      <td>AXMKAXC0TR9AW</td>\n",
       "      <td>6302800854</td>\n",
       "      <td>Here he is, the original Elvis.  Larry Parks g...</td>\n",
       "      <td>5.0</td>\n",
       "      <td>946684800</td>\n",
       "      <td>01 1, 2000</td>\n",
       "    </tr>\n",
       "    <tr>\n",
       "      <th>...</th>\n",
       "      <td>...</td>\n",
       "      <td>...</td>\n",
       "      <td>...</td>\n",
       "      <td>...</td>\n",
       "      <td>...</td>\n",
       "      <td>...</td>\n",
       "    </tr>\n",
       "    <tr>\n",
       "      <th>325878</th>\n",
       "      <td>A1NSDP9YZXLMDX</td>\n",
       "      <td>B00FYV7WAQ</td>\n",
       "      <td>Super adorable...since seeing this movie, I ha...</td>\n",
       "      <td>5.0</td>\n",
       "      <td>1406073600</td>\n",
       "      <td>07 23, 2014</td>\n",
       "    </tr>\n",
       "    <tr>\n",
       "      <th>429218</th>\n",
       "      <td>A2OBDNQ5ZYU1L8</td>\n",
       "      <td>B00H9KKGTO</td>\n",
       "      <td>At first, I felt like I was watching a mixture...</td>\n",
       "      <td>5.0</td>\n",
       "      <td>1406073600</td>\n",
       "      <td>07 23, 2014</td>\n",
       "    </tr>\n",
       "    <tr>\n",
       "      <th>325894</th>\n",
       "      <td>A1NSDP9YZXLMDX</td>\n",
       "      <td>B00HEPDGKA</td>\n",
       "      <td>So when this movie came out the critics blaste...</td>\n",
       "      <td>4.0</td>\n",
       "      <td>1406073600</td>\n",
       "      <td>07 23, 2014</td>\n",
       "    </tr>\n",
       "    <tr>\n",
       "      <th>472163</th>\n",
       "      <td>A2FZV751YOELV9</td>\n",
       "      <td>B00IBQ5LMW</td>\n",
       "      <td>Loved it....not a bad performance in the bunch...</td>\n",
       "      <td>5.0</td>\n",
       "      <td>1406073600</td>\n",
       "      <td>07 23, 2014</td>\n",
       "    </tr>\n",
       "    <tr>\n",
       "      <th>227976</th>\n",
       "      <td>A2ZVJ63VUZ7NMY</td>\n",
       "      <td>B00DCLT8RA</td>\n",
       "      <td>Not an Oscar contender,  but entertaining.  It...</td>\n",
       "      <td>3.0</td>\n",
       "      <td>1406073600</td>\n",
       "      <td>07 23, 2014</td>\n",
       "    </tr>\n",
       "  </tbody>\n",
       "</table>\n",
       "<p>558018 rows × 6 columns</p>\n",
       "</div>"
      ],
      "text/plain": [
       "            reviewerID        asin  \\\n",
       "472018  A2DEQIN34WWO9I  0792153189   \n",
       "483084  A22PBUV0TICYGO  1567301584   \n",
       "299483   A49XO4MO130OS  0790732181   \n",
       "279615   AXMKAXC0TR9AW  6302824842   \n",
       "279613   AXMKAXC0TR9AW  6302800854   \n",
       "...                ...         ...   \n",
       "325878  A1NSDP9YZXLMDX  B00FYV7WAQ   \n",
       "429218  A2OBDNQ5ZYU1L8  B00H9KKGTO   \n",
       "325894  A1NSDP9YZXLMDX  B00HEPDGKA   \n",
       "472163  A2FZV751YOELV9  B00IBQ5LMW   \n",
       "227976  A2ZVJ63VUZ7NMY  B00DCLT8RA   \n",
       "\n",
       "                                               reviewText  overall  \\\n",
       "472018  While Armageddon was just another plotless Bru...      5.0   \n",
       "483084  An absolutely beautiful movie about a hopeless...      5.0   \n",
       "299483  This has always been one of my favorite movies...      5.0   \n",
       "279615  This movie rates with The Jolson Story.  Anyon...      5.0   \n",
       "279613  Here he is, the original Elvis.  Larry Parks g...      5.0   \n",
       "...                                                   ...      ...   \n",
       "325878  Super adorable...since seeing this movie, I ha...      5.0   \n",
       "429218  At first, I felt like I was watching a mixture...      5.0   \n",
       "325894  So when this movie came out the critics blaste...      4.0   \n",
       "472163  Loved it....not a bad performance in the bunch...      5.0   \n",
       "227976  Not an Oscar contender,  but entertaining.  It...      3.0   \n",
       "\n",
       "        unixReviewTime   reviewTime  \n",
       "472018       946684800   01 1, 2000  \n",
       "483084       946684800   01 1, 2000  \n",
       "299483       946684800   01 1, 2000  \n",
       "279615       946684800   01 1, 2000  \n",
       "279613       946684800   01 1, 2000  \n",
       "...                ...          ...  \n",
       "325878      1406073600  07 23, 2014  \n",
       "429218      1406073600  07 23, 2014  \n",
       "325894      1406073600  07 23, 2014  \n",
       "472163      1406073600  07 23, 2014  \n",
       "227976      1406073600  07 23, 2014  \n",
       "\n",
       "[558018 rows x 6 columns]"
      ]
     },
     "execution_count": 9,
     "metadata": {},
     "output_type": "execute_result"
    }
   ],
   "source": [
    "df"
   ]
  },
  {
   "cell_type": "code",
   "execution_count": 11,
   "id": "272577bb-3f0f-47cd-b0c5-c1c7cd09ff11",
   "metadata": {},
   "outputs": [
    {
     "data": {
      "text/plain": [
       "16274.0"
      ]
     },
     "execution_count": 11,
     "metadata": {},
     "output_type": "execute_result"
    }
   ],
   "source": [
    "1406073600 / (60*60*24)"
   ]
  },
  {
   "cell_type": "code",
   "execution_count": 12,
   "id": "73b10564-94d2-4f20-b9ce-17bd131efc74",
   "metadata": {},
   "outputs": [],
   "source": [
    "df.drop(columns=['reviewText', \"reviewTime\"], inplace=True)"
   ]
  },
  {
   "cell_type": "code",
   "execution_count": 23,
   "id": "2bc79b20-1d30-4780-b24d-c29d425f4bb8",
   "metadata": {},
   "outputs": [
    {
     "data": {
      "text/html": [
       "<div>\n",
       "<style scoped>\n",
       "    .dataframe tbody tr th:only-of-type {\n",
       "        vertical-align: middle;\n",
       "    }\n",
       "\n",
       "    .dataframe tbody tr th {\n",
       "        vertical-align: top;\n",
       "    }\n",
       "\n",
       "    .dataframe thead th {\n",
       "        text-align: right;\n",
       "    }\n",
       "</style>\n",
       "<table border=\"1\" class=\"dataframe\">\n",
       "  <thead>\n",
       "    <tr style=\"text-align: right;\">\n",
       "      <th></th>\n",
       "      <th>reviewerID</th>\n",
       "      <th>asin</th>\n",
       "      <th>overall</th>\n",
       "      <th>unixReviewTime</th>\n",
       "      <th>reviewTime</th>\n",
       "    </tr>\n",
       "  </thead>\n",
       "  <tbody>\n",
       "    <tr>\n",
       "      <th>472018</th>\n",
       "      <td>A2DEQIN34WWO9I</td>\n",
       "      <td>0792153189</td>\n",
       "      <td>5.0</td>\n",
       "      <td>946684800</td>\n",
       "      <td>01 1, 2000</td>\n",
       "    </tr>\n",
       "    <tr>\n",
       "      <th>483084</th>\n",
       "      <td>A22PBUV0TICYGO</td>\n",
       "      <td>1567301584</td>\n",
       "      <td>5.0</td>\n",
       "      <td>946684800</td>\n",
       "      <td>01 1, 2000</td>\n",
       "    </tr>\n",
       "    <tr>\n",
       "      <th>299483</th>\n",
       "      <td>A49XO4MO130OS</td>\n",
       "      <td>0790732181</td>\n",
       "      <td>5.0</td>\n",
       "      <td>946684800</td>\n",
       "      <td>01 1, 2000</td>\n",
       "    </tr>\n",
       "    <tr>\n",
       "      <th>279615</th>\n",
       "      <td>AXMKAXC0TR9AW</td>\n",
       "      <td>6302824842</td>\n",
       "      <td>5.0</td>\n",
       "      <td>946684800</td>\n",
       "      <td>01 1, 2000</td>\n",
       "    </tr>\n",
       "    <tr>\n",
       "      <th>279613</th>\n",
       "      <td>AXMKAXC0TR9AW</td>\n",
       "      <td>6302800854</td>\n",
       "      <td>5.0</td>\n",
       "      <td>946684800</td>\n",
       "      <td>01 1, 2000</td>\n",
       "    </tr>\n",
       "    <tr>\n",
       "      <th>...</th>\n",
       "      <td>...</td>\n",
       "      <td>...</td>\n",
       "      <td>...</td>\n",
       "      <td>...</td>\n",
       "      <td>...</td>\n",
       "    </tr>\n",
       "    <tr>\n",
       "      <th>325878</th>\n",
       "      <td>A1NSDP9YZXLMDX</td>\n",
       "      <td>B00FYV7WAQ</td>\n",
       "      <td>5.0</td>\n",
       "      <td>1406073600</td>\n",
       "      <td>07 23, 2014</td>\n",
       "    </tr>\n",
       "    <tr>\n",
       "      <th>429218</th>\n",
       "      <td>A2OBDNQ5ZYU1L8</td>\n",
       "      <td>B00H9KKGTO</td>\n",
       "      <td>5.0</td>\n",
       "      <td>1406073600</td>\n",
       "      <td>07 23, 2014</td>\n",
       "    </tr>\n",
       "    <tr>\n",
       "      <th>325894</th>\n",
       "      <td>A1NSDP9YZXLMDX</td>\n",
       "      <td>B00HEPDGKA</td>\n",
       "      <td>4.0</td>\n",
       "      <td>1406073600</td>\n",
       "      <td>07 23, 2014</td>\n",
       "    </tr>\n",
       "    <tr>\n",
       "      <th>472163</th>\n",
       "      <td>A2FZV751YOELV9</td>\n",
       "      <td>B00IBQ5LMW</td>\n",
       "      <td>5.0</td>\n",
       "      <td>1406073600</td>\n",
       "      <td>07 23, 2014</td>\n",
       "    </tr>\n",
       "    <tr>\n",
       "      <th>227976</th>\n",
       "      <td>A2ZVJ63VUZ7NMY</td>\n",
       "      <td>B00DCLT8RA</td>\n",
       "      <td>3.0</td>\n",
       "      <td>1406073600</td>\n",
       "      <td>07 23, 2014</td>\n",
       "    </tr>\n",
       "  </tbody>\n",
       "</table>\n",
       "<p>558018 rows × 5 columns</p>\n",
       "</div>"
      ],
      "text/plain": [
       "            reviewerID        asin  overall  unixReviewTime   reviewTime\n",
       "472018  A2DEQIN34WWO9I  0792153189      5.0       946684800   01 1, 2000\n",
       "483084  A22PBUV0TICYGO  1567301584      5.0       946684800   01 1, 2000\n",
       "299483   A49XO4MO130OS  0790732181      5.0       946684800   01 1, 2000\n",
       "279615   AXMKAXC0TR9AW  6302824842      5.0       946684800   01 1, 2000\n",
       "279613   AXMKAXC0TR9AW  6302800854      5.0       946684800   01 1, 2000\n",
       "...                ...         ...      ...             ...          ...\n",
       "325878  A1NSDP9YZXLMDX  B00FYV7WAQ      5.0      1406073600  07 23, 2014\n",
       "429218  A2OBDNQ5ZYU1L8  B00H9KKGTO      5.0      1406073600  07 23, 2014\n",
       "325894  A1NSDP9YZXLMDX  B00HEPDGKA      4.0      1406073600  07 23, 2014\n",
       "472163  A2FZV751YOELV9  B00IBQ5LMW      5.0      1406073600  07 23, 2014\n",
       "227976  A2ZVJ63VUZ7NMY  B00DCLT8RA      3.0      1406073600  07 23, 2014\n",
       "\n",
       "[558018 rows x 5 columns]"
      ]
     },
     "execution_count": 23,
     "metadata": {},
     "output_type": "execute_result"
    }
   ],
   "source": [
    "df"
   ]
  },
  {
   "cell_type": "code",
   "execution_count": 24,
   "id": "a690b8cc-f661-43f6-8cf9-33c7a7a0cf6a",
   "metadata": {},
   "outputs": [],
   "source": [
    "df_g = df.groupby(by='reviewerID').agg(lambda x: list(x))\n"
   ]
  },
  {
   "cell_type": "code",
   "execution_count": 25,
   "id": "19adce00-99cd-43ec-91bf-fe02c27eadfa",
   "metadata": {},
   "outputs": [
    {
     "data": {
      "text/html": [
       "<div>\n",
       "<style scoped>\n",
       "    .dataframe tbody tr th:only-of-type {\n",
       "        vertical-align: middle;\n",
       "    }\n",
       "\n",
       "    .dataframe tbody tr th {\n",
       "        vertical-align: top;\n",
       "    }\n",
       "\n",
       "    .dataframe thead th {\n",
       "        text-align: right;\n",
       "    }\n",
       "</style>\n",
       "<table border=\"1\" class=\"dataframe\">\n",
       "  <thead>\n",
       "    <tr style=\"text-align: right;\">\n",
       "      <th></th>\n",
       "      <th>asin</th>\n",
       "      <th>overall</th>\n",
       "      <th>unixReviewTime</th>\n",
       "      <th>reviewTime</th>\n",
       "    </tr>\n",
       "    <tr>\n",
       "      <th>reviewerID</th>\n",
       "      <th></th>\n",
       "      <th></th>\n",
       "      <th></th>\n",
       "      <th></th>\n",
       "    </tr>\n",
       "  </thead>\n",
       "  <tbody>\n",
       "    <tr>\n",
       "      <th>A03173961SEIJJTFLUSNN</th>\n",
       "      <td>[B001NPK5C4, B00DOZNH58, B0019N8P2W, 160399407...</td>\n",
       "      <td>[4.0, 4.0, 4.0, 5.0, 5.0, 5.0, 5.0, 5.0, 5.0, ...</td>\n",
       "      <td>[1395187200, 1395187200, 1396396800, 139639680...</td>\n",
       "      <td>[03 19, 2014, 03 19, 2014, 04 2, 2014, 04 2, 2...</td>\n",
       "    </tr>\n",
       "    <tr>\n",
       "      <th>A0644664269UTSPKMVCVH</th>\n",
       "      <td>[B0070B9R1U, B00007G1X1, B00009WVO0, B000H1RFE...</td>\n",
       "      <td>[4.0, 5.0, 4.0, 3.0, 5.0, 3.0, 5.0, 5.0, 4.0, ...</td>\n",
       "      <td>[1364083200, 1364083200, 1364083200, 136408320...</td>\n",
       "      <td>[03 24, 2013, 03 24, 2013, 03 24, 2013, 03 24,...</td>\n",
       "    </tr>\n",
       "    <tr>\n",
       "      <th>A08161909WK3HU7UYTMW</th>\n",
       "      <td>[B001B73PQC, B001PTA34I, 6304480415, B000FDEVB...</td>\n",
       "      <td>[5.0, 5.0, 4.0, 4.0, 5.0, 5.0, 5.0, 5.0, 5.0, ...</td>\n",
       "      <td>[1356739200, 1356739200, 1358467200, 136209600...</td>\n",
       "      <td>[12 29, 2012, 12 29, 2012, 01 18, 2013, 03 1, ...</td>\n",
       "    </tr>\n",
       "    <tr>\n",
       "      <th>A08324222HTYZDE4L3F8Z</th>\n",
       "      <td>[B00002E233, 6300216934, 0783113943, 630332797...</td>\n",
       "      <td>[4.0, 4.0, 5.0, 5.0, 5.0, 5.0, 2.0, 4.0, 2.0, ...</td>\n",
       "      <td>[1369699200, 1370217600, 1370304000, 137030400...</td>\n",
       "      <td>[05 28, 2013, 06 3, 2013, 06 4, 2013, 06 4, 20...</td>\n",
       "    </tr>\n",
       "    <tr>\n",
       "      <th>A083480223IW4FMZ5PIV9</th>\n",
       "      <td>[B0000D9PIQ, B000A3DFSG, B000BY8962, B0001Z363...</td>\n",
       "      <td>[5.0, 1.0, 5.0, 1.0, 5.0]</td>\n",
       "      <td>[1362355200, 1391126400, 1391126400, 139112640...</td>\n",
       "      <td>[03 4, 2013, 01 31, 2014, 01 31, 2014, 01 31, ...</td>\n",
       "    </tr>\n",
       "    <tr>\n",
       "      <th>...</th>\n",
       "      <td>...</td>\n",
       "      <td>...</td>\n",
       "      <td>...</td>\n",
       "      <td>...</td>\n",
       "    </tr>\n",
       "    <tr>\n",
       "      <th>AZYZILYSQA6VQ</th>\n",
       "      <td>[B000096I9G, B00005KARI, 1417070471, 141700944...</td>\n",
       "      <td>[5.0, 5.0, 5.0, 5.0, 5.0, 4.0, 5.0, 5.0, 5.0, ...</td>\n",
       "      <td>[1233273600, 1233273600, 1233273600, 123327360...</td>\n",
       "      <td>[01 30, 2009, 01 30, 2009, 01 30, 2009, 01 30,...</td>\n",
       "    </tr>\n",
       "    <tr>\n",
       "      <th>AZZ1KF8RAO1BR</th>\n",
       "      <td>[B000035Z2S, 6303122647, B00004VVOH, B00006684...</td>\n",
       "      <td>[3.0, 5.0, 3.0, 3.0, 2.0, 2.0, 3.0, 1.0, 2.0, ...</td>\n",
       "      <td>[949536000, 967161600, 1005091200, 1032220800,...</td>\n",
       "      <td>[02 3, 2000, 08 25, 2000, 11 7, 2001, 09 17, 2...</td>\n",
       "    </tr>\n",
       "    <tr>\n",
       "      <th>AZZL199Q879FU</th>\n",
       "      <td>[B0000CNY59, B000Y35A94, B002P6TA9E, B00008L3P...</td>\n",
       "      <td>[5.0, 5.0, 5.0, 5.0, 5.0, 5.0]</td>\n",
       "      <td>[1190332800, 1330128000, 1364169600, 136416960...</td>\n",
       "      <td>[09 21, 2007, 02 25, 2012, 03 25, 2013, 03 25,...</td>\n",
       "    </tr>\n",
       "    <tr>\n",
       "      <th>AZZWPNME0GQZ2</th>\n",
       "      <td>[B000EQHXJ6, B000FSME5Q, 630206239X, B000EQHXJ...</td>\n",
       "      <td>[4.0, 3.0, 2.0, 5.0, 3.0, 1.0]</td>\n",
       "      <td>[1169510400, 1170028800, 1174348800, 117434880...</td>\n",
       "      <td>[01 23, 2007, 01 29, 2007, 03 20, 2007, 03 20,...</td>\n",
       "    </tr>\n",
       "    <tr>\n",
       "      <th>AZZZ159U3Q5OO</th>\n",
       "      <td>[0784010188, B00005JKZY, B000A8NZ0O, B00005JO2...</td>\n",
       "      <td>[5.0, 4.0, 4.0, 2.0, 4.0, 4.0, 5.0]</td>\n",
       "      <td>[1154995200, 1160352000, 1160352000, 116199360...</td>\n",
       "      <td>[08 8, 2006, 10 9, 2006, 10 9, 2006, 10 28, 20...</td>\n",
       "    </tr>\n",
       "  </tbody>\n",
       "</table>\n",
       "<p>17799 rows × 4 columns</p>\n",
       "</div>"
      ],
      "text/plain": [
       "                                                                    asin  \\\n",
       "reviewerID                                                                 \n",
       "A03173961SEIJJTFLUSNN  [B001NPK5C4, B00DOZNH58, B0019N8P2W, 160399407...   \n",
       "A0644664269UTSPKMVCVH  [B0070B9R1U, B00007G1X1, B00009WVO0, B000H1RFE...   \n",
       "A08161909WK3HU7UYTMW   [B001B73PQC, B001PTA34I, 6304480415, B000FDEVB...   \n",
       "A08324222HTYZDE4L3F8Z  [B00002E233, 6300216934, 0783113943, 630332797...   \n",
       "A083480223IW4FMZ5PIV9  [B0000D9PIQ, B000A3DFSG, B000BY8962, B0001Z363...   \n",
       "...                                                                  ...   \n",
       "AZYZILYSQA6VQ          [B000096I9G, B00005KARI, 1417070471, 141700944...   \n",
       "AZZ1KF8RAO1BR          [B000035Z2S, 6303122647, B00004VVOH, B00006684...   \n",
       "AZZL199Q879FU          [B0000CNY59, B000Y35A94, B002P6TA9E, B00008L3P...   \n",
       "AZZWPNME0GQZ2          [B000EQHXJ6, B000FSME5Q, 630206239X, B000EQHXJ...   \n",
       "AZZZ159U3Q5OO          [0784010188, B00005JKZY, B000A8NZ0O, B00005JO2...   \n",
       "\n",
       "                                                                 overall  \\\n",
       "reviewerID                                                                 \n",
       "A03173961SEIJJTFLUSNN  [4.0, 4.0, 4.0, 5.0, 5.0, 5.0, 5.0, 5.0, 5.0, ...   \n",
       "A0644664269UTSPKMVCVH  [4.0, 5.0, 4.0, 3.0, 5.0, 3.0, 5.0, 5.0, 4.0, ...   \n",
       "A08161909WK3HU7UYTMW   [5.0, 5.0, 4.0, 4.0, 5.0, 5.0, 5.0, 5.0, 5.0, ...   \n",
       "A08324222HTYZDE4L3F8Z  [4.0, 4.0, 5.0, 5.0, 5.0, 5.0, 2.0, 4.0, 2.0, ...   \n",
       "A083480223IW4FMZ5PIV9                          [5.0, 1.0, 5.0, 1.0, 5.0]   \n",
       "...                                                                  ...   \n",
       "AZYZILYSQA6VQ          [5.0, 5.0, 5.0, 5.0, 5.0, 4.0, 5.0, 5.0, 5.0, ...   \n",
       "AZZ1KF8RAO1BR          [3.0, 5.0, 3.0, 3.0, 2.0, 2.0, 3.0, 1.0, 2.0, ...   \n",
       "AZZL199Q879FU                             [5.0, 5.0, 5.0, 5.0, 5.0, 5.0]   \n",
       "AZZWPNME0GQZ2                             [4.0, 3.0, 2.0, 5.0, 3.0, 1.0]   \n",
       "AZZZ159U3Q5OO                        [5.0, 4.0, 4.0, 2.0, 4.0, 4.0, 5.0]   \n",
       "\n",
       "                                                          unixReviewTime  \\\n",
       "reviewerID                                                                 \n",
       "A03173961SEIJJTFLUSNN  [1395187200, 1395187200, 1396396800, 139639680...   \n",
       "A0644664269UTSPKMVCVH  [1364083200, 1364083200, 1364083200, 136408320...   \n",
       "A08161909WK3HU7UYTMW   [1356739200, 1356739200, 1358467200, 136209600...   \n",
       "A08324222HTYZDE4L3F8Z  [1369699200, 1370217600, 1370304000, 137030400...   \n",
       "A083480223IW4FMZ5PIV9  [1362355200, 1391126400, 1391126400, 139112640...   \n",
       "...                                                                  ...   \n",
       "AZYZILYSQA6VQ          [1233273600, 1233273600, 1233273600, 123327360...   \n",
       "AZZ1KF8RAO1BR          [949536000, 967161600, 1005091200, 1032220800,...   \n",
       "AZZL199Q879FU          [1190332800, 1330128000, 1364169600, 136416960...   \n",
       "AZZWPNME0GQZ2          [1169510400, 1170028800, 1174348800, 117434880...   \n",
       "AZZZ159U3Q5OO          [1154995200, 1160352000, 1160352000, 116199360...   \n",
       "\n",
       "                                                              reviewTime  \n",
       "reviewerID                                                                \n",
       "A03173961SEIJJTFLUSNN  [03 19, 2014, 03 19, 2014, 04 2, 2014, 04 2, 2...  \n",
       "A0644664269UTSPKMVCVH  [03 24, 2013, 03 24, 2013, 03 24, 2013, 03 24,...  \n",
       "A08161909WK3HU7UYTMW   [12 29, 2012, 12 29, 2012, 01 18, 2013, 03 1, ...  \n",
       "A08324222HTYZDE4L3F8Z  [05 28, 2013, 06 3, 2013, 06 4, 2013, 06 4, 20...  \n",
       "A083480223IW4FMZ5PIV9  [03 4, 2013, 01 31, 2014, 01 31, 2014, 01 31, ...  \n",
       "...                                                                  ...  \n",
       "AZYZILYSQA6VQ          [01 30, 2009, 01 30, 2009, 01 30, 2009, 01 30,...  \n",
       "AZZ1KF8RAO1BR          [02 3, 2000, 08 25, 2000, 11 7, 2001, 09 17, 2...  \n",
       "AZZL199Q879FU          [09 21, 2007, 02 25, 2012, 03 25, 2013, 03 25,...  \n",
       "AZZWPNME0GQZ2          [01 23, 2007, 01 29, 2007, 03 20, 2007, 03 20,...  \n",
       "AZZZ159U3Q5OO          [08 8, 2006, 10 9, 2006, 10 9, 2006, 10 28, 20...  \n",
       "\n",
       "[17799 rows x 4 columns]"
      ]
     },
     "execution_count": 25,
     "metadata": {},
     "output_type": "execute_result"
    }
   ],
   "source": [
    "df_g"
   ]
  },
  {
   "cell_type": "code",
   "execution_count": null,
   "id": "4d0c4e5d-dacd-4e88-888c-c4dd913ef12a",
   "metadata": {},
   "outputs": [],
   "source": []
  }
 ],
 "metadata": {
  "kernelspec": {
   "display_name": "Python 3",
   "language": "python",
   "name": "python3"
  },
  "language_info": {
   "codemirror_mode": {
    "name": "ipython",
    "version": 3
   },
   "file_extension": ".py",
   "mimetype": "text/x-python",
   "name": "python",
   "nbconvert_exporter": "python",
   "pygments_lexer": "ipython3",
   "version": "3.6.8"
  }
 },
 "nbformat": 4,
 "nbformat_minor": 5
}
